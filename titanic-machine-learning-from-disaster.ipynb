{
 "cells": [
  {
   "cell_type": "code",
   "execution_count": 1,
   "id": "0b995ef3",
   "metadata": {
    "_cell_guid": "b1076dfc-b9ad-4769-8c92-a6c4dae69d19",
    "_uuid": "8f2839f25d086af736a60e9eeb907d3b93b6e0e5",
    "execution": {
     "iopub.execute_input": "2023-02-24T06:44:09.821180Z",
     "iopub.status.busy": "2023-02-24T06:44:09.820515Z",
     "iopub.status.idle": "2023-02-24T06:44:09.838673Z",
     "shell.execute_reply": "2023-02-24T06:44:09.837386Z"
    },
    "papermill": {
     "duration": 0.039606,
     "end_time": "2023-02-24T06:44:09.843615",
     "exception": false,
     "start_time": "2023-02-24T06:44:09.804009",
     "status": "completed"
    },
    "tags": []
   },
   "outputs": [
    {
     "name": "stdout",
     "output_type": "stream",
     "text": [
      "/kaggle/input/titanic/train.csv\n",
      "/kaggle/input/titanic/test.csv\n",
      "/kaggle/input/titanic/gender_submission.csv\n"
     ]
    }
   ],
   "source": [
    "# This Python 3 environment comes with many helpful analytics libraries installed\n",
    "# It is defined by the kaggle/python Docker image: https://github.com/kaggle/docker-python\n",
    "\n",
    "# Input data files are available in the read-only \"../input/\" directory\n",
    "# For example, running this (by clicking run or pressing Shift+Enter) will list all files under the input directory\n",
    "\n",
    "import os\n",
    "for dirname, _, filenames in os.walk('/kaggle/input'):\n",
    "    for filename in filenames:\n",
    "        print(os.path.join(dirname, filename))\n",
    "\n",
    "# You can write up to 20GB to the current directory (/kaggle/working/) that gets preserved as output when you create a version using \"Save & Run All\" \n",
    "# You can also write temporary files to /kaggle/temp/, but they won't be saved outside of the current session"
   ]
  },
  {
   "cell_type": "code",
   "execution_count": 2,
   "id": "1be239c5",
   "metadata": {
    "execution": {
     "iopub.execute_input": "2023-02-24T06:44:09.871251Z",
     "iopub.status.busy": "2023-02-24T06:44:09.870199Z",
     "iopub.status.idle": "2023-02-24T06:44:10.890700Z",
     "shell.execute_reply": "2023-02-24T06:44:10.889605Z"
    },
    "papermill": {
     "duration": 1.037196,
     "end_time": "2023-02-24T06:44:10.893798",
     "exception": false,
     "start_time": "2023-02-24T06:44:09.856602",
     "status": "completed"
    },
    "tags": []
   },
   "outputs": [],
   "source": [
    "import numpy as np\n",
    "import pandas as pd\n",
    "import matplotlib.pyplot as plt\n",
    "import seaborn as sns\n",
    "%matplotlib inline"
   ]
  },
  {
   "cell_type": "code",
   "execution_count": 3,
   "id": "3a60941d",
   "metadata": {
    "execution": {
     "iopub.execute_input": "2023-02-24T06:44:10.919133Z",
     "iopub.status.busy": "2023-02-24T06:44:10.918699Z",
     "iopub.status.idle": "2023-02-24T06:44:10.954269Z",
     "shell.execute_reply": "2023-02-24T06:44:10.953426Z"
    },
    "papermill": {
     "duration": 0.051603,
     "end_time": "2023-02-24T06:44:10.957012",
     "exception": false,
     "start_time": "2023-02-24T06:44:10.905409",
     "status": "completed"
    },
    "tags": []
   },
   "outputs": [],
   "source": [
    "#Load Datas\n",
    "train_df = pd.read_csv(\"../input/titanic/train.csv\")\n",
    "test_df = pd.read_csv(\"../input/titanic/test.csv\")\n",
    "gender_submission = pd.read_csv(\"../input/titanic/gender_submission.csv\")"
   ]
  },
  {
   "cell_type": "code",
   "execution_count": 4,
   "id": "bed9f569",
   "metadata": {
    "execution": {
     "iopub.execute_input": "2023-02-24T06:44:10.983054Z",
     "iopub.status.busy": "2023-02-24T06:44:10.982259Z",
     "iopub.status.idle": "2023-02-24T06:44:11.007796Z",
     "shell.execute_reply": "2023-02-24T06:44:11.006681Z"
    },
    "papermill": {
     "duration": 0.041282,
     "end_time": "2023-02-24T06:44:11.010349",
     "exception": false,
     "start_time": "2023-02-24T06:44:10.969067",
     "status": "completed"
    },
    "tags": []
   },
   "outputs": [
    {
     "data": {
      "text/html": [
       "<div>\n",
       "<style scoped>\n",
       "    .dataframe tbody tr th:only-of-type {\n",
       "        vertical-align: middle;\n",
       "    }\n",
       "\n",
       "    .dataframe tbody tr th {\n",
       "        vertical-align: top;\n",
       "    }\n",
       "\n",
       "    .dataframe thead th {\n",
       "        text-align: right;\n",
       "    }\n",
       "</style>\n",
       "<table border=\"1\" class=\"dataframe\">\n",
       "  <thead>\n",
       "    <tr style=\"text-align: right;\">\n",
       "      <th></th>\n",
       "      <th>PassengerId</th>\n",
       "      <th>Survived</th>\n",
       "      <th>Pclass</th>\n",
       "      <th>Name</th>\n",
       "      <th>Sex</th>\n",
       "      <th>Age</th>\n",
       "      <th>SibSp</th>\n",
       "      <th>Parch</th>\n",
       "      <th>Ticket</th>\n",
       "      <th>Fare</th>\n",
       "      <th>Cabin</th>\n",
       "      <th>Embarked</th>\n",
       "    </tr>\n",
       "  </thead>\n",
       "  <tbody>\n",
       "    <tr>\n",
       "      <th>0</th>\n",
       "      <td>1</td>\n",
       "      <td>0</td>\n",
       "      <td>3</td>\n",
       "      <td>Braund, Mr. Owen Harris</td>\n",
       "      <td>male</td>\n",
       "      <td>22.0</td>\n",
       "      <td>1</td>\n",
       "      <td>0</td>\n",
       "      <td>A/5 21171</td>\n",
       "      <td>7.2500</td>\n",
       "      <td>NaN</td>\n",
       "      <td>S</td>\n",
       "    </tr>\n",
       "    <tr>\n",
       "      <th>1</th>\n",
       "      <td>2</td>\n",
       "      <td>1</td>\n",
       "      <td>1</td>\n",
       "      <td>Cumings, Mrs. John Bradley (Florence Briggs Th...</td>\n",
       "      <td>female</td>\n",
       "      <td>38.0</td>\n",
       "      <td>1</td>\n",
       "      <td>0</td>\n",
       "      <td>PC 17599</td>\n",
       "      <td>71.2833</td>\n",
       "      <td>C85</td>\n",
       "      <td>C</td>\n",
       "    </tr>\n",
       "    <tr>\n",
       "      <th>2</th>\n",
       "      <td>3</td>\n",
       "      <td>1</td>\n",
       "      <td>3</td>\n",
       "      <td>Heikkinen, Miss. Laina</td>\n",
       "      <td>female</td>\n",
       "      <td>26.0</td>\n",
       "      <td>0</td>\n",
       "      <td>0</td>\n",
       "      <td>STON/O2. 3101282</td>\n",
       "      <td>7.9250</td>\n",
       "      <td>NaN</td>\n",
       "      <td>S</td>\n",
       "    </tr>\n",
       "    <tr>\n",
       "      <th>3</th>\n",
       "      <td>4</td>\n",
       "      <td>1</td>\n",
       "      <td>1</td>\n",
       "      <td>Futrelle, Mrs. Jacques Heath (Lily May Peel)</td>\n",
       "      <td>female</td>\n",
       "      <td>35.0</td>\n",
       "      <td>1</td>\n",
       "      <td>0</td>\n",
       "      <td>113803</td>\n",
       "      <td>53.1000</td>\n",
       "      <td>C123</td>\n",
       "      <td>S</td>\n",
       "    </tr>\n",
       "    <tr>\n",
       "      <th>4</th>\n",
       "      <td>5</td>\n",
       "      <td>0</td>\n",
       "      <td>3</td>\n",
       "      <td>Allen, Mr. William Henry</td>\n",
       "      <td>male</td>\n",
       "      <td>35.0</td>\n",
       "      <td>0</td>\n",
       "      <td>0</td>\n",
       "      <td>373450</td>\n",
       "      <td>8.0500</td>\n",
       "      <td>NaN</td>\n",
       "      <td>S</td>\n",
       "    </tr>\n",
       "  </tbody>\n",
       "</table>\n",
       "</div>"
      ],
      "text/plain": [
       "   PassengerId  Survived  Pclass  \\\n",
       "0            1         0       3   \n",
       "1            2         1       1   \n",
       "2            3         1       3   \n",
       "3            4         1       1   \n",
       "4            5         0       3   \n",
       "\n",
       "                                                Name     Sex   Age  SibSp  \\\n",
       "0                            Braund, Mr. Owen Harris    male  22.0      1   \n",
       "1  Cumings, Mrs. John Bradley (Florence Briggs Th...  female  38.0      1   \n",
       "2                             Heikkinen, Miss. Laina  female  26.0      0   \n",
       "3       Futrelle, Mrs. Jacques Heath (Lily May Peel)  female  35.0      1   \n",
       "4                           Allen, Mr. William Henry    male  35.0      0   \n",
       "\n",
       "   Parch            Ticket     Fare Cabin Embarked  \n",
       "0      0         A/5 21171   7.2500   NaN        S  \n",
       "1      0          PC 17599  71.2833   C85        C  \n",
       "2      0  STON/O2. 3101282   7.9250   NaN        S  \n",
       "3      0            113803  53.1000  C123        S  \n",
       "4      0            373450   8.0500   NaN        S  "
      ]
     },
     "execution_count": 4,
     "metadata": {},
     "output_type": "execute_result"
    }
   ],
   "source": [
    "train_df.head()"
   ]
  },
  {
   "cell_type": "code",
   "execution_count": 5,
   "id": "d584de65",
   "metadata": {
    "execution": {
     "iopub.execute_input": "2023-02-24T06:44:11.035919Z",
     "iopub.status.busy": "2023-02-24T06:44:11.035415Z",
     "iopub.status.idle": "2023-02-24T06:44:11.063105Z",
     "shell.execute_reply": "2023-02-24T06:44:11.061398Z"
    },
    "papermill": {
     "duration": 0.044049,
     "end_time": "2023-02-24T06:44:11.066208",
     "exception": false,
     "start_time": "2023-02-24T06:44:11.022159",
     "status": "completed"
    },
    "tags": []
   },
   "outputs": [
    {
     "name": "stdout",
     "output_type": "stream",
     "text": [
      "<class 'pandas.core.frame.DataFrame'>\n",
      "RangeIndex: 891 entries, 0 to 890\n",
      "Data columns (total 12 columns):\n",
      " #   Column       Non-Null Count  Dtype  \n",
      "---  ------       --------------  -----  \n",
      " 0   PassengerId  891 non-null    int64  \n",
      " 1   Survived     891 non-null    int64  \n",
      " 2   Pclass       891 non-null    int64  \n",
      " 3   Name         891 non-null    object \n",
      " 4   Sex          891 non-null    object \n",
      " 5   Age          714 non-null    float64\n",
      " 6   SibSp        891 non-null    int64  \n",
      " 7   Parch        891 non-null    int64  \n",
      " 8   Ticket       891 non-null    object \n",
      " 9   Fare         891 non-null    float64\n",
      " 10  Cabin        204 non-null    object \n",
      " 11  Embarked     889 non-null    object \n",
      "dtypes: float64(2), int64(5), object(5)\n",
      "memory usage: 83.7+ KB\n"
     ]
    }
   ],
   "source": [
    "train_df.info()"
   ]
  },
  {
   "cell_type": "code",
   "execution_count": 6,
   "id": "39399a84",
   "metadata": {
    "execution": {
     "iopub.execute_input": "2023-02-24T06:44:11.094674Z",
     "iopub.status.busy": "2023-02-24T06:44:11.094048Z",
     "iopub.status.idle": "2023-02-24T06:44:11.128546Z",
     "shell.execute_reply": "2023-02-24T06:44:11.127118Z"
    },
    "papermill": {
     "duration": 0.051277,
     "end_time": "2023-02-24T06:44:11.131141",
     "exception": false,
     "start_time": "2023-02-24T06:44:11.079864",
     "status": "completed"
    },
    "tags": []
   },
   "outputs": [
    {
     "data": {
      "text/html": [
       "<div>\n",
       "<style scoped>\n",
       "    .dataframe tbody tr th:only-of-type {\n",
       "        vertical-align: middle;\n",
       "    }\n",
       "\n",
       "    .dataframe tbody tr th {\n",
       "        vertical-align: top;\n",
       "    }\n",
       "\n",
       "    .dataframe thead th {\n",
       "        text-align: right;\n",
       "    }\n",
       "</style>\n",
       "<table border=\"1\" class=\"dataframe\">\n",
       "  <thead>\n",
       "    <tr style=\"text-align: right;\">\n",
       "      <th></th>\n",
       "      <th>PassengerId</th>\n",
       "      <th>Survived</th>\n",
       "      <th>Pclass</th>\n",
       "      <th>Age</th>\n",
       "      <th>SibSp</th>\n",
       "      <th>Parch</th>\n",
       "      <th>Fare</th>\n",
       "    </tr>\n",
       "  </thead>\n",
       "  <tbody>\n",
       "    <tr>\n",
       "      <th>count</th>\n",
       "      <td>891.000000</td>\n",
       "      <td>891.000000</td>\n",
       "      <td>891.000000</td>\n",
       "      <td>714.000000</td>\n",
       "      <td>891.000000</td>\n",
       "      <td>891.000000</td>\n",
       "      <td>891.000000</td>\n",
       "    </tr>\n",
       "    <tr>\n",
       "      <th>mean</th>\n",
       "      <td>446.000000</td>\n",
       "      <td>0.383838</td>\n",
       "      <td>2.308642</td>\n",
       "      <td>29.699118</td>\n",
       "      <td>0.523008</td>\n",
       "      <td>0.381594</td>\n",
       "      <td>32.204208</td>\n",
       "    </tr>\n",
       "    <tr>\n",
       "      <th>std</th>\n",
       "      <td>257.353842</td>\n",
       "      <td>0.486592</td>\n",
       "      <td>0.836071</td>\n",
       "      <td>14.526497</td>\n",
       "      <td>1.102743</td>\n",
       "      <td>0.806057</td>\n",
       "      <td>49.693429</td>\n",
       "    </tr>\n",
       "    <tr>\n",
       "      <th>min</th>\n",
       "      <td>1.000000</td>\n",
       "      <td>0.000000</td>\n",
       "      <td>1.000000</td>\n",
       "      <td>0.420000</td>\n",
       "      <td>0.000000</td>\n",
       "      <td>0.000000</td>\n",
       "      <td>0.000000</td>\n",
       "    </tr>\n",
       "    <tr>\n",
       "      <th>25%</th>\n",
       "      <td>223.500000</td>\n",
       "      <td>0.000000</td>\n",
       "      <td>2.000000</td>\n",
       "      <td>20.125000</td>\n",
       "      <td>0.000000</td>\n",
       "      <td>0.000000</td>\n",
       "      <td>7.910400</td>\n",
       "    </tr>\n",
       "    <tr>\n",
       "      <th>50%</th>\n",
       "      <td>446.000000</td>\n",
       "      <td>0.000000</td>\n",
       "      <td>3.000000</td>\n",
       "      <td>28.000000</td>\n",
       "      <td>0.000000</td>\n",
       "      <td>0.000000</td>\n",
       "      <td>14.454200</td>\n",
       "    </tr>\n",
       "    <tr>\n",
       "      <th>75%</th>\n",
       "      <td>668.500000</td>\n",
       "      <td>1.000000</td>\n",
       "      <td>3.000000</td>\n",
       "      <td>38.000000</td>\n",
       "      <td>1.000000</td>\n",
       "      <td>0.000000</td>\n",
       "      <td>31.000000</td>\n",
       "    </tr>\n",
       "    <tr>\n",
       "      <th>max</th>\n",
       "      <td>891.000000</td>\n",
       "      <td>1.000000</td>\n",
       "      <td>3.000000</td>\n",
       "      <td>80.000000</td>\n",
       "      <td>8.000000</td>\n",
       "      <td>6.000000</td>\n",
       "      <td>512.329200</td>\n",
       "    </tr>\n",
       "  </tbody>\n",
       "</table>\n",
       "</div>"
      ],
      "text/plain": [
       "       PassengerId    Survived      Pclass         Age       SibSp  \\\n",
       "count   891.000000  891.000000  891.000000  714.000000  891.000000   \n",
       "mean    446.000000    0.383838    2.308642   29.699118    0.523008   \n",
       "std     257.353842    0.486592    0.836071   14.526497    1.102743   \n",
       "min       1.000000    0.000000    1.000000    0.420000    0.000000   \n",
       "25%     223.500000    0.000000    2.000000   20.125000    0.000000   \n",
       "50%     446.000000    0.000000    3.000000   28.000000    0.000000   \n",
       "75%     668.500000    1.000000    3.000000   38.000000    1.000000   \n",
       "max     891.000000    1.000000    3.000000   80.000000    8.000000   \n",
       "\n",
       "            Parch        Fare  \n",
       "count  891.000000  891.000000  \n",
       "mean     0.381594   32.204208  \n",
       "std      0.806057   49.693429  \n",
       "min      0.000000    0.000000  \n",
       "25%      0.000000    7.910400  \n",
       "50%      0.000000   14.454200  \n",
       "75%      0.000000   31.000000  \n",
       "max      6.000000  512.329200  "
      ]
     },
     "execution_count": 6,
     "metadata": {},
     "output_type": "execute_result"
    }
   ],
   "source": [
    "train_df.describe()"
   ]
  },
  {
   "cell_type": "code",
   "execution_count": 7,
   "id": "e0ef85fc",
   "metadata": {
    "execution": {
     "iopub.execute_input": "2023-02-24T06:44:11.158744Z",
     "iopub.status.busy": "2023-02-24T06:44:11.158350Z",
     "iopub.status.idle": "2023-02-24T06:44:11.169898Z",
     "shell.execute_reply": "2023-02-24T06:44:11.168000Z"
    },
    "papermill": {
     "duration": 0.029486,
     "end_time": "2023-02-24T06:44:11.172933",
     "exception": false,
     "start_time": "2023-02-24T06:44:11.143447",
     "status": "completed"
    },
    "tags": []
   },
   "outputs": [
    {
     "data": {
      "text/plain": [
       "PassengerId      0\n",
       "Survived         0\n",
       "Pclass           0\n",
       "Name             0\n",
       "Sex              0\n",
       "Age            177\n",
       "SibSp            0\n",
       "Parch            0\n",
       "Ticket           0\n",
       "Fare             0\n",
       "Cabin          687\n",
       "Embarked         2\n",
       "dtype: int64"
      ]
     },
     "execution_count": 7,
     "metadata": {},
     "output_type": "execute_result"
    }
   ],
   "source": [
    "#Check missing datas\n",
    "train_df.isnull().sum()"
   ]
  },
  {
   "cell_type": "markdown",
   "id": "9c55a3bc",
   "metadata": {
    "papermill": {
     "duration": 0.011335,
     "end_time": "2023-02-24T06:44:11.196268",
     "exception": false,
     "start_time": "2023-02-24T06:44:11.184933",
     "status": "completed"
    },
    "tags": []
   },
   "source": [
    "This shows that there are several null values in Age, Cabin, and Embarked columns, and need to be handled"
   ]
  },
  {
   "cell_type": "code",
   "execution_count": 8,
   "id": "f74a3ad1",
   "metadata": {
    "execution": {
     "iopub.execute_input": "2023-02-24T06:44:11.222989Z",
     "iopub.status.busy": "2023-02-24T06:44:11.222462Z",
     "iopub.status.idle": "2023-02-24T06:44:11.232299Z",
     "shell.execute_reply": "2023-02-24T06:44:11.230819Z"
    },
    "papermill": {
     "duration": 0.02685,
     "end_time": "2023-02-24T06:44:11.234898",
     "exception": false,
     "start_time": "2023-02-24T06:44:11.208048",
     "status": "completed"
    },
    "tags": []
   },
   "outputs": [],
   "source": [
    "#Since there's only 2 NA values in Embarked, simply drop those rows\n",
    "train_df.dropna(subset=[\"Embarked\"],inplace=True)"
   ]
  },
  {
   "cell_type": "code",
   "execution_count": 9,
   "id": "9175b966",
   "metadata": {
    "execution": {
     "iopub.execute_input": "2023-02-24T06:44:11.261289Z",
     "iopub.status.busy": "2023-02-24T06:44:11.260837Z",
     "iopub.status.idle": "2023-02-24T06:44:11.268407Z",
     "shell.execute_reply": "2023-02-24T06:44:11.266783Z"
    },
    "papermill": {
     "duration": 0.024262,
     "end_time": "2023-02-24T06:44:11.270936",
     "exception": false,
     "start_time": "2023-02-24T06:44:11.246674",
     "status": "completed"
    },
    "tags": []
   },
   "outputs": [],
   "source": [
    "train_df['Age'].fillna(train_df['Age'].mean(), inplace=True)"
   ]
  },
  {
   "cell_type": "code",
   "execution_count": 10,
   "id": "4638a42d",
   "metadata": {
    "execution": {
     "iopub.execute_input": "2023-02-24T06:44:11.296799Z",
     "iopub.status.busy": "2023-02-24T06:44:11.296336Z",
     "iopub.status.idle": "2023-02-24T06:44:11.831422Z",
     "shell.execute_reply": "2023-02-24T06:44:11.829493Z"
    },
    "papermill": {
     "duration": 0.560633,
     "end_time": "2023-02-24T06:44:11.843434",
     "exception": false,
     "start_time": "2023-02-24T06:44:11.282801",
     "status": "completed"
    },
    "tags": []
   },
   "outputs": [
    {
     "data": {
      "text/plain": [
       "<matplotlib.legend.Legend at 0x7fd2b8a55e50>"
      ]
     },
     "execution_count": 10,
     "metadata": {},
     "output_type": "execute_result"
    },
    {
     "data": {
      "image/png": "[encoded data removed]",
      "text/plain": [
       "<Figure size 640x480 with 1 Axes>"
      ]
     },
     "metadata": {},
     "output_type": "display_data"
    },
    {
     "data": {
      "image/png": "[encoded data removed]",
      "text/plain": [
       "<Figure size 640x480 with 1 Axes>"
      ]
     },
     "metadata": {},
     "output_type": "display_data"
    }
   ],
   "source": [
    "## Breakdown of survivors by gender\n",
    "## Survived = 1, did not survive = 0\n",
    "\n",
    "survivors_df = train_df[train_df[\"Survived\"] == 1]\n",
    "non_survivors_df = train_df[train_df[\"Survived\"] == 0]\n",
    "\n",
    "# Survivors by sex\n",
    "male_survivors = survivors_df[survivors_df[\"Sex\"] == \"male\"][\"PassengerId\"].count()\n",
    "female_survivors = survivors_df[survivors_df[\"Sex\"] == \"female\"][\"PassengerId\"].count()\n",
    "survivors = [male_survivors, female_survivors]\n",
    "\n",
    "# Non-survivors by sex\n",
    "male_non_survivors = non_survivors_df[non_survivors_df[\"Sex\"] == \"male\"][\"PassengerId\"].count()\n",
    "female_non_survivors = non_survivors_df[non_survivors_df[\"Sex\"] == \"female\"][\"PassengerId\"].count()\n",
    "non_survivors = [male_non_survivors, female_non_survivors]\n",
    "\n",
    "# Plot the two categories by sex\n",
    "plt.figure(0)\n",
    "plt.pie(survivors, colors=[\"navy\", \"pink\"])\n",
    "plt.title(\"Survivors\")\n",
    "plt.legend([\"Males\", \"Females\"])\n",
    "\n",
    "plt.figure(1)\n",
    "plt.pie(non_survivors, colors=[\"navy\", \"pink\"])\n",
    "plt.title(\"Non-Survivors\")\n",
    "plt.legend([\"Males\", \"Females\"])"
   ]
  },
  {
   "cell_type": "markdown",
   "id": "7b83db4e",
   "metadata": {
    "papermill": {
     "duration": 0.022694,
     "end_time": "2023-02-24T06:44:11.882237",
     "exception": false,
     "start_time": "2023-02-24T06:44:11.859543",
     "status": "completed"
    },
    "tags": []
   },
   "source": [
    "Interesting insights, there were significantly more female survivors than males"
   ]
  },
  {
   "cell_type": "code",
   "execution_count": 11,
   "id": "b16f9466",
   "metadata": {
    "execution": {
     "iopub.execute_input": "2023-02-24T06:44:11.912961Z",
     "iopub.status.busy": "2023-02-24T06:44:11.912353Z",
     "iopub.status.idle": "2023-02-24T06:44:11.924406Z",
     "shell.execute_reply": "2023-02-24T06:44:11.923147Z"
    },
    "papermill": {
     "duration": 0.030163,
     "end_time": "2023-02-24T06:44:11.926782",
     "exception": false,
     "start_time": "2023-02-24T06:44:11.896619",
     "status": "completed"
    },
    "tags": []
   },
   "outputs": [],
   "source": [
    "# Dummy encode the sex and embarked columns\n",
    "train_df[\"Sex\"] = train_df[\"Sex\"].map({\"male\": 0, \"female\": 1})\n",
    "train_df[\"Embarked\"] = train_df[\"Embarked\"].map({ \"C\": 0, \"Q\": 1, \"S\": 2})"
   ]
  },
  {
   "cell_type": "code",
   "execution_count": 12,
   "id": "28043c3f",
   "metadata": {
    "execution": {
     "iopub.execute_input": "2023-02-24T06:44:11.954845Z",
     "iopub.status.busy": "2023-02-24T06:44:11.953513Z",
     "iopub.status.idle": "2023-02-24T06:44:12.510165Z",
     "shell.execute_reply": "2023-02-24T06:44:12.508960Z"
    },
    "papermill": {
     "duration": 0.573082,
     "end_time": "2023-02-24T06:44:12.512644",
     "exception": false,
     "start_time": "2023-02-24T06:44:11.939562",
     "status": "completed"
    },
    "tags": []
   },
   "outputs": [
    {
     "data": {
      "text/plain": [
       "Text(0.5, 1.0, 'Passengers Onboard by Economic Class')"
      ]
     },
     "execution_count": 12,
     "metadata": {},
     "output_type": "execute_result"
    },
    {
     "data": {
      "image/png": "[encoded data removed]",
      "text/plain": [
       "<Figure size 640x480 with 1 Axes>"
      ]
     },
     "metadata": {},
     "output_type": "display_data"
    },
    {
     "data": {
      "image/png": "[encoded data removed]",
      "text/plain": [
       "<Figure size 640x480 with 1 Axes>"
      ]
     },
     "metadata": {},
     "output_type": "display_data"
    },
    {
     "data": {
      "image/png": "[encoded data removed]",
      "text/plain": [
       "<Figure size 640x480 with 1 Axes>"
      ]
     },
     "metadata": {},
     "output_type": "display_data"
    }
   ],
   "source": [
    "# Plot value counts for relevant categories\n",
    "plt.figure(0)\n",
    "plt.bar([\"male\", \"female\"], train_df[\"Sex\"].value_counts(), color=[\"navy\", \"pink\"])\n",
    "plt.title(\"Passengers Onboard by Sex\")\n",
    "plt.figure(1)\n",
    "plt.bar([\"C\", \"Q\", \"S\"], train_df[\"Embarked\"].value_counts(), color=[\"green\", \"blue\", \"red\"])\n",
    "plt.title(\"Passengers Onboard by Embark Location\")\n",
    "plt.figure(2)\n",
    "plt.bar([\"First\", \"Second\", \"Third\"], train_df[\"Pclass\"].value_counts(), color=[\"green\", \"blue\", \"red\"])\n",
    "plt.title(\"Passengers Onboard by Economic Class\")"
   ]
  },
  {
   "cell_type": "code",
   "execution_count": 13,
   "id": "67cb50eb",
   "metadata": {
    "execution": {
     "iopub.execute_input": "2023-02-24T06:44:12.543254Z",
     "iopub.status.busy": "2023-02-24T06:44:12.542126Z",
     "iopub.status.idle": "2023-02-24T06:44:12.553096Z",
     "shell.execute_reply": "2023-02-24T06:44:12.551929Z"
    },
    "papermill": {
     "duration": 0.028397,
     "end_time": "2023-02-24T06:44:12.555499",
     "exception": false,
     "start_time": "2023-02-24T06:44:12.527102",
     "status": "completed"
    },
    "tags": []
   },
   "outputs": [
    {
     "data": {
      "text/plain": [
       "B96 B98        4\n",
       "G6             4\n",
       "C23 C25 C27    4\n",
       "E101           3\n",
       "C22 C26        3\n",
       "              ..\n",
       "E34            1\n",
       "C7             1\n",
       "C54            1\n",
       "E36            1\n",
       "C148           1\n",
       "Name: Cabin, Length: 146, dtype: int64"
      ]
     },
     "execution_count": 13,
     "metadata": {},
     "output_type": "execute_result"
    }
   ],
   "source": [
    "train_df[\"Cabin\"].value_counts()"
   ]
  },
  {
   "cell_type": "code",
   "execution_count": 14,
   "id": "eabdf42b",
   "metadata": {
    "execution": {
     "iopub.execute_input": "2023-02-24T06:44:12.585338Z",
     "iopub.status.busy": "2023-02-24T06:44:12.584941Z",
     "iopub.status.idle": "2023-02-24T06:44:12.595291Z",
     "shell.execute_reply": "2023-02-24T06:44:12.594060Z"
    },
    "papermill": {
     "duration": 0.028369,
     "end_time": "2023-02-24T06:44:12.597794",
     "exception": false,
     "start_time": "2023-02-24T06:44:12.569425",
     "status": "completed"
    },
    "tags": []
   },
   "outputs": [
    {
     "data": {
      "text/plain": [
       "347082      7\n",
       "CA. 2343    7\n",
       "1601        7\n",
       "3101295     6\n",
       "CA 2144     6\n",
       "           ..\n",
       "9234        1\n",
       "19988       1\n",
       "2693        1\n",
       "PC 17612    1\n",
       "370376      1\n",
       "Name: Ticket, Length: 680, dtype: int64"
      ]
     },
     "execution_count": 14,
     "metadata": {},
     "output_type": "execute_result"
    }
   ],
   "source": [
    "train_df[\"Ticket\"].value_counts()"
   ]
  },
  {
   "cell_type": "markdown",
   "id": "ca8b1d50",
   "metadata": {
    "papermill": {
     "duration": 0.013513,
     "end_time": "2023-02-24T06:44:12.625426",
     "exception": false,
     "start_time": "2023-02-24T06:44:12.611913",
     "status": "completed"
    },
    "tags": []
   },
   "source": [
    "Since there're so many unique varying cabin numbers/IDs, and Ticket numbers, we can assume they are not significantly relevant, similar to Name"
   ]
  },
  {
   "cell_type": "code",
   "execution_count": 15,
   "id": "957d7ac2",
   "metadata": {
    "execution": {
     "iopub.execute_input": "2023-02-24T06:44:12.654742Z",
     "iopub.status.busy": "2023-02-24T06:44:12.654336Z",
     "iopub.status.idle": "2023-02-24T06:44:12.661100Z",
     "shell.execute_reply": "2023-02-24T06:44:12.659895Z"
    },
    "papermill": {
     "duration": 0.02442,
     "end_time": "2023-02-24T06:44:12.663545",
     "exception": false,
     "start_time": "2023-02-24T06:44:12.639125",
     "status": "completed"
    },
    "tags": []
   },
   "outputs": [],
   "source": [
    "# Drop Cabin and Name columns\n",
    "train_df = train_df.drop(columns=[\"Cabin\", \"Name\", \"Ticket\", \"PassengerId\"])"
   ]
  },
  {
   "cell_type": "code",
   "execution_count": 16,
   "id": "d2d2f6db",
   "metadata": {
    "execution": {
     "iopub.execute_input": "2023-02-24T06:44:12.693309Z",
     "iopub.status.busy": "2023-02-24T06:44:12.692916Z",
     "iopub.status.idle": "2023-02-24T06:44:12.711533Z",
     "shell.execute_reply": "2023-02-24T06:44:12.710395Z"
    },
    "papermill": {
     "duration": 0.036499,
     "end_time": "2023-02-24T06:44:12.713964",
     "exception": false,
     "start_time": "2023-02-24T06:44:12.677465",
     "status": "completed"
    },
    "tags": []
   },
   "outputs": [
    {
     "data": {
      "text/html": [
       "<div>\n",
       "<style scoped>\n",
       "    .dataframe tbody tr th:only-of-type {\n",
       "        vertical-align: middle;\n",
       "    }\n",
       "\n",
       "    .dataframe tbody tr th {\n",
       "        vertical-align: top;\n",
       "    }\n",
       "\n",
       "    .dataframe thead th {\n",
       "        text-align: right;\n",
       "    }\n",
       "</style>\n",
       "<table border=\"1\" class=\"dataframe\">\n",
       "  <thead>\n",
       "    <tr style=\"text-align: right;\">\n",
       "      <th></th>\n",
       "      <th>Survived</th>\n",
       "      <th>Pclass</th>\n",
       "      <th>Sex</th>\n",
       "      <th>Age</th>\n",
       "      <th>SibSp</th>\n",
       "      <th>Parch</th>\n",
       "      <th>Fare</th>\n",
       "      <th>Embarked</th>\n",
       "    </tr>\n",
       "  </thead>\n",
       "  <tbody>\n",
       "    <tr>\n",
       "      <th>0</th>\n",
       "      <td>0</td>\n",
       "      <td>3</td>\n",
       "      <td>0</td>\n",
       "      <td>22.000000</td>\n",
       "      <td>1</td>\n",
       "      <td>0</td>\n",
       "      <td>7.2500</td>\n",
       "      <td>2</td>\n",
       "    </tr>\n",
       "    <tr>\n",
       "      <th>1</th>\n",
       "      <td>1</td>\n",
       "      <td>1</td>\n",
       "      <td>1</td>\n",
       "      <td>38.000000</td>\n",
       "      <td>1</td>\n",
       "      <td>0</td>\n",
       "      <td>71.2833</td>\n",
       "      <td>0</td>\n",
       "    </tr>\n",
       "    <tr>\n",
       "      <th>2</th>\n",
       "      <td>1</td>\n",
       "      <td>3</td>\n",
       "      <td>1</td>\n",
       "      <td>26.000000</td>\n",
       "      <td>0</td>\n",
       "      <td>0</td>\n",
       "      <td>7.9250</td>\n",
       "      <td>2</td>\n",
       "    </tr>\n",
       "    <tr>\n",
       "      <th>3</th>\n",
       "      <td>1</td>\n",
       "      <td>1</td>\n",
       "      <td>1</td>\n",
       "      <td>35.000000</td>\n",
       "      <td>1</td>\n",
       "      <td>0</td>\n",
       "      <td>53.1000</td>\n",
       "      <td>2</td>\n",
       "    </tr>\n",
       "    <tr>\n",
       "      <th>4</th>\n",
       "      <td>0</td>\n",
       "      <td>3</td>\n",
       "      <td>0</td>\n",
       "      <td>35.000000</td>\n",
       "      <td>0</td>\n",
       "      <td>0</td>\n",
       "      <td>8.0500</td>\n",
       "      <td>2</td>\n",
       "    </tr>\n",
       "    <tr>\n",
       "      <th>...</th>\n",
       "      <td>...</td>\n",
       "      <td>...</td>\n",
       "      <td>...</td>\n",
       "      <td>...</td>\n",
       "      <td>...</td>\n",
       "      <td>...</td>\n",
       "      <td>...</td>\n",
       "      <td>...</td>\n",
       "    </tr>\n",
       "    <tr>\n",
       "      <th>886</th>\n",
       "      <td>0</td>\n",
       "      <td>2</td>\n",
       "      <td>0</td>\n",
       "      <td>27.000000</td>\n",
       "      <td>0</td>\n",
       "      <td>0</td>\n",
       "      <td>13.0000</td>\n",
       "      <td>2</td>\n",
       "    </tr>\n",
       "    <tr>\n",
       "      <th>887</th>\n",
       "      <td>1</td>\n",
       "      <td>1</td>\n",
       "      <td>1</td>\n",
       "      <td>19.000000</td>\n",
       "      <td>0</td>\n",
       "      <td>0</td>\n",
       "      <td>30.0000</td>\n",
       "      <td>2</td>\n",
       "    </tr>\n",
       "    <tr>\n",
       "      <th>888</th>\n",
       "      <td>0</td>\n",
       "      <td>3</td>\n",
       "      <td>1</td>\n",
       "      <td>29.642093</td>\n",
       "      <td>1</td>\n",
       "      <td>2</td>\n",
       "      <td>23.4500</td>\n",
       "      <td>2</td>\n",
       "    </tr>\n",
       "    <tr>\n",
       "      <th>889</th>\n",
       "      <td>1</td>\n",
       "      <td>1</td>\n",
       "      <td>0</td>\n",
       "      <td>26.000000</td>\n",
       "      <td>0</td>\n",
       "      <td>0</td>\n",
       "      <td>30.0000</td>\n",
       "      <td>0</td>\n",
       "    </tr>\n",
       "    <tr>\n",
       "      <th>890</th>\n",
       "      <td>0</td>\n",
       "      <td>3</td>\n",
       "      <td>0</td>\n",
       "      <td>32.000000</td>\n",
       "      <td>0</td>\n",
       "      <td>0</td>\n",
       "      <td>7.7500</td>\n",
       "      <td>1</td>\n",
       "    </tr>\n",
       "  </tbody>\n",
       "</table>\n",
       "<p>889 rows × 8 columns</p>\n",
       "</div>"
      ],
      "text/plain": [
       "     Survived  Pclass  Sex        Age  SibSp  Parch     Fare  Embarked\n",
       "0           0       3    0  22.000000      1      0   7.2500         2\n",
       "1           1       1    1  38.000000      1      0  71.2833         0\n",
       "2           1       3    1  26.000000      0      0   7.9250         2\n",
       "3           1       1    1  35.000000      1      0  53.1000         2\n",
       "4           0       3    0  35.000000      0      0   8.0500         2\n",
       "..        ...     ...  ...        ...    ...    ...      ...       ...\n",
       "886         0       2    0  27.000000      0      0  13.0000         2\n",
       "887         1       1    1  19.000000      0      0  30.0000         2\n",
       "888         0       3    1  29.642093      1      2  23.4500         2\n",
       "889         1       1    0  26.000000      0      0  30.0000         0\n",
       "890         0       3    0  32.000000      0      0   7.7500         1\n",
       "\n",
       "[889 rows x 8 columns]"
      ]
     },
     "execution_count": 16,
     "metadata": {},
     "output_type": "execute_result"
    }
   ],
   "source": [
    "train_df"
   ]
  },
  {
   "cell_type": "code",
   "execution_count": 17,
   "id": "8e0e4221",
   "metadata": {
    "execution": {
     "iopub.execute_input": "2023-02-24T06:44:12.743647Z",
     "iopub.status.busy": "2023-02-24T06:44:12.743270Z",
     "iopub.status.idle": "2023-02-24T06:44:13.101114Z",
     "shell.execute_reply": "2023-02-24T06:44:13.099879Z"
    },
    "papermill": {
     "duration": 0.375757,
     "end_time": "2023-02-24T06:44:13.103784",
     "exception": false,
     "start_time": "2023-02-24T06:44:12.728027",
     "status": "completed"
    },
    "tags": []
   },
   "outputs": [
    {
     "data": {
      "text/plain": [
       "<AxesSubplot:>"
      ]
     },
     "execution_count": 17,
     "metadata": {},
     "output_type": "execute_result"
    },
    {
     "data": {
      "image/png": "[encoded data removed]",
      "text/plain": [
       "<Figure size 640x480 with 2 Axes>"
      ]
     },
     "metadata": {},
     "output_type": "display_data"
    }
   ],
   "source": [
    "# Create a correlation matrix for the columns in the dataframe. Create a heatmap from the correlation matrix\n",
    "corr_matrix = train_df.corr()\n",
    "sns.heatmap(corr_matrix)"
   ]
  },
  {
   "cell_type": "markdown",
   "id": "e3037d9a",
   "metadata": {
    "papermill": {
     "duration": 0.014641,
     "end_time": "2023-02-24T06:44:13.133559",
     "exception": false,
     "start_time": "2023-02-24T06:44:13.118918",
     "status": "completed"
    },
    "tags": []
   },
   "source": [
    "As can be seen, and also inferred, fare and passenger class have a high negative correlation. The lower the fare (ie. lower income), the higher the passenger class (3rd class). Therefore, both variables should NOT be included together in models."
   ]
  },
  {
   "cell_type": "code",
   "execution_count": 18,
   "id": "7b933570",
   "metadata": {
    "execution": {
     "iopub.execute_input": "2023-02-24T06:44:13.165478Z",
     "iopub.status.busy": "2023-02-24T06:44:13.165069Z",
     "iopub.status.idle": "2023-02-24T06:44:13.606896Z",
     "shell.execute_reply": "2023-02-24T06:44:13.605767Z"
    },
    "papermill": {
     "duration": 0.461397,
     "end_time": "2023-02-24T06:44:13.610110",
     "exception": false,
     "start_time": "2023-02-24T06:44:13.148713",
     "status": "completed"
    },
    "tags": []
   },
   "outputs": [],
   "source": [
    "from sklearn.model_selection import train_test_split\n",
    "from sklearn.preprocessing import StandardScaler\n",
    "from sklearn.linear_model import LogisticRegression\n",
    "from sklearn.tree import DecisionTreeClassifier\n",
    "from sklearn.metrics import classification_report, accuracy_score, confusion_matrix, mean_squared_error\n",
    "import xgboost as xgboost"
   ]
  },
  {
   "cell_type": "code",
   "execution_count": 19,
   "id": "78e609c3",
   "metadata": {
    "execution": {
     "iopub.execute_input": "2023-02-24T06:44:13.644152Z",
     "iopub.status.busy": "2023-02-24T06:44:13.643723Z",
     "iopub.status.idle": "2023-02-24T06:44:13.659148Z",
     "shell.execute_reply": "2023-02-24T06:44:13.658067Z"
    },
    "papermill": {
     "duration": 0.035164,
     "end_time": "2023-02-24T06:44:13.661571",
     "exception": false,
     "start_time": "2023-02-24T06:44:13.626407",
     "status": "completed"
    },
    "tags": []
   },
   "outputs": [
    {
     "data": {
      "text/plain": [
       "'X_train length: 755'"
      ]
     },
     "metadata": {},
     "output_type": "display_data"
    },
    {
     "data": {
      "text/plain": [
       "'X_test length: 134'"
      ]
     },
     "metadata": {},
     "output_type": "display_data"
    }
   ],
   "source": [
    "# Preprocessing\n",
    "# Only include one of \"pclass\", \"fare\"\n",
    "independent_variables = [\"Sex\", \"Pclass\", \"Age\", \"SibSp\", \"Parch\", \"Embarked\"]\n",
    "X, y = train_df[independent_variables], train_df[\"Survived\"]\n",
    "\n",
    "X_train, X_test, y_train, y_test = train_test_split(X, y, test_size=0.15, random_state=100)\n",
    "\n",
    "display(f\"X_train length: {len(X_train)}\")\n",
    "display(f\"X_test length: {len(X_test)}\")"
   ]
  },
  {
   "cell_type": "code",
   "execution_count": 20,
   "id": "4223d389",
   "metadata": {
    "execution": {
     "iopub.execute_input": "2023-02-24T06:44:13.694795Z",
     "iopub.status.busy": "2023-02-24T06:44:13.694314Z",
     "iopub.status.idle": "2023-02-24T06:44:13.710255Z",
     "shell.execute_reply": "2023-02-24T06:44:13.709056Z"
    },
    "papermill": {
     "duration": 0.03558,
     "end_time": "2023-02-24T06:44:13.712848",
     "exception": false,
     "start_time": "2023-02-24T06:44:13.677268",
     "status": "completed"
    },
    "tags": []
   },
   "outputs": [],
   "source": [
    "# Standard Scale the training Data and transform the dataframe\n",
    "scaler = StandardScaler().fit(X_train)\n",
    "\n",
    "X_train = scaler.transform(X_train)\n",
    "\n",
    "scaler = StandardScaler().fit(X_test)\n",
    "X_test = scaler.transform(X_test)"
   ]
  },
  {
   "cell_type": "markdown",
   "id": "3a94fa6c",
   "metadata": {
    "papermill": {
     "duration": 0.014611,
     "end_time": "2023-02-24T06:44:13.742447",
     "exception": false,
     "start_time": "2023-02-24T06:44:13.727836",
     "status": "completed"
    },
    "tags": []
   },
   "source": [
    "# Logistic Regression\n"
   ]
  },
  {
   "cell_type": "code",
   "execution_count": 21,
   "id": "f15e1f0b",
   "metadata": {
    "execution": {
     "iopub.execute_input": "2023-02-24T06:44:13.774390Z",
     "iopub.status.busy": "2023-02-24T06:44:13.773994Z",
     "iopub.status.idle": "2023-02-24T06:44:13.786435Z",
     "shell.execute_reply": "2023-02-24T06:44:13.785164Z"
    },
    "papermill": {
     "duration": 0.031524,
     "end_time": "2023-02-24T06:44:13.789092",
     "exception": false,
     "start_time": "2023-02-24T06:44:13.757568",
     "status": "completed"
    },
    "tags": []
   },
   "outputs": [],
   "source": [
    "logreg = LogisticRegression().fit(X_train, y_train)\n",
    "preds = logreg.predict(X_test)"
   ]
  },
  {
   "cell_type": "code",
   "execution_count": 22,
   "id": "3d511ece",
   "metadata": {
    "execution": {
     "iopub.execute_input": "2023-02-24T06:44:13.823165Z",
     "iopub.status.busy": "2023-02-24T06:44:13.821923Z",
     "iopub.status.idle": "2023-02-24T06:44:13.834017Z",
     "shell.execute_reply": "2023-02-24T06:44:13.832833Z"
    },
    "papermill": {
     "duration": 0.032767,
     "end_time": "2023-02-24T06:44:13.836940",
     "exception": false,
     "start_time": "2023-02-24T06:44:13.804173",
     "status": "completed"
    },
    "tags": []
   },
   "outputs": [
    {
     "name": "stdout",
     "output_type": "stream",
     "text": [
      "              precision    recall  f1-score   support\n",
      "\n",
      "           0       0.87      0.86      0.87        88\n",
      "           1       0.74      0.76      0.75        46\n",
      "\n",
      "    accuracy                           0.83       134\n",
      "   macro avg       0.81      0.81      0.81       134\n",
      "weighted avg       0.83      0.83      0.83       134\n",
      "\n"
     ]
    }
   ],
   "source": [
    "report = classification_report(y_test, preds)\n",
    "print(report)"
   ]
  },
  {
   "cell_type": "code",
   "execution_count": 23,
   "id": "f8759208",
   "metadata": {
    "execution": {
     "iopub.execute_input": "2023-02-24T06:44:13.871875Z",
     "iopub.status.busy": "2023-02-24T06:44:13.870496Z",
     "iopub.status.idle": "2023-02-24T06:44:13.880332Z",
     "shell.execute_reply": "2023-02-24T06:44:13.879392Z"
    },
    "papermill": {
     "duration": 0.029126,
     "end_time": "2023-02-24T06:44:13.882671",
     "exception": false,
     "start_time": "2023-02-24T06:44:13.853545",
     "status": "completed"
    },
    "tags": []
   },
   "outputs": [],
   "source": [
    "decisiontree = DecisionTreeClassifier().fit(X_train, y_train)\n",
    "preds =  decisiontree.predict(X_test)"
   ]
  },
  {
   "cell_type": "code",
   "execution_count": 24,
   "id": "d629af07",
   "metadata": {
    "execution": {
     "iopub.execute_input": "2023-02-24T06:44:13.915816Z",
     "iopub.status.busy": "2023-02-24T06:44:13.915065Z",
     "iopub.status.idle": "2023-02-24T06:44:13.927499Z",
     "shell.execute_reply": "2023-02-24T06:44:13.925400Z"
    },
    "papermill": {
     "duration": 0.032735,
     "end_time": "2023-02-24T06:44:13.930688",
     "exception": false,
     "start_time": "2023-02-24T06:44:13.897953",
     "status": "completed"
    },
    "tags": []
   },
   "outputs": [
    {
     "name": "stdout",
     "output_type": "stream",
     "text": [
      "              precision    recall  f1-score   support\n",
      "\n",
      "           0       0.76      0.84      0.80        88\n",
      "           1       0.62      0.50      0.55        46\n",
      "\n",
      "    accuracy                           0.72       134\n",
      "   macro avg       0.69      0.67      0.68       134\n",
      "weighted avg       0.71      0.72      0.72       134\n",
      "\n"
     ]
    }
   ],
   "source": [
    "report = classification_report(y_test, preds)\n",
    "print(report)"
   ]
  },
  {
   "cell_type": "code",
   "execution_count": 25,
   "id": "ae0559ed",
   "metadata": {
    "execution": {
     "iopub.execute_input": "2023-02-24T06:44:13.965355Z",
     "iopub.status.busy": "2023-02-24T06:44:13.964381Z",
     "iopub.status.idle": "2023-02-24T06:44:14.417992Z",
     "shell.execute_reply": "2023-02-24T06:44:14.416109Z"
    },
    "papermill": {
     "duration": 0.473759,
     "end_time": "2023-02-24T06:44:14.420603",
     "exception": false,
     "start_time": "2023-02-24T06:44:13.946844",
     "status": "completed"
    },
    "tags": []
   },
   "outputs": [
    {
     "name": "stdout",
     "output_type": "stream",
     "text": [
      "[[74 14]\n",
      " [20 26]]\n"
     ]
    }
   ],
   "source": [
    "xgb_model = xgboost.XGBClassifier(objective=\"binary:logistic\", random_state=100)\n",
    "xgb_model.fit(X_train, y_train)\n",
    "\n",
    "preds = xgb_model.predict(X_test)\n",
    "\n",
    "print(confusion_matrix(y_test, preds))"
   ]
  },
  {
   "cell_type": "code",
   "execution_count": 26,
   "id": "9c687099",
   "metadata": {
    "execution": {
     "iopub.execute_input": "2023-02-24T06:44:14.454502Z",
     "iopub.status.busy": "2023-02-24T06:44:14.454113Z",
     "iopub.status.idle": "2023-02-24T06:44:14.464502Z",
     "shell.execute_reply": "2023-02-24T06:44:14.463039Z"
    },
    "papermill": {
     "duration": 0.03062,
     "end_time": "2023-02-24T06:44:14.467586",
     "exception": false,
     "start_time": "2023-02-24T06:44:14.436966",
     "status": "completed"
    },
    "tags": []
   },
   "outputs": [
    {
     "name": "stdout",
     "output_type": "stream",
     "text": [
      "              precision    recall  f1-score   support\n",
      "\n",
      "           0       0.79      0.84      0.81        88\n",
      "           1       0.65      0.57      0.60        46\n",
      "\n",
      "    accuracy                           0.75       134\n",
      "   macro avg       0.72      0.70      0.71       134\n",
      "weighted avg       0.74      0.75      0.74       134\n",
      "\n"
     ]
    }
   ],
   "source": [
    "report = classification_report(y_test, preds)\n",
    "print(report)"
   ]
  },
  {
   "cell_type": "code",
   "execution_count": 27,
   "id": "431b92cc",
   "metadata": {
    "execution": {
     "iopub.execute_input": "2023-02-24T06:44:14.500317Z",
     "iopub.status.busy": "2023-02-24T06:44:14.499898Z",
     "iopub.status.idle": "2023-02-24T06:44:14.693977Z",
     "shell.execute_reply": "2023-02-24T06:44:14.693085Z"
    },
    "papermill": {
     "duration": 0.212923,
     "end_time": "2023-02-24T06:44:14.696296",
     "exception": false,
     "start_time": "2023-02-24T06:44:14.483373",
     "status": "completed"
    },
    "tags": []
   },
   "outputs": [
    {
     "name": "stdout",
     "output_type": "stream",
     "text": [
      "[0]\tvalidation_0-auc:0.84264\tvalidation_0-error:0.18657\n",
      "[1]\tvalidation_0-auc:0.86042\tvalidation_0-error:0.19403\n",
      "[2]\tvalidation_0-auc:0.85042\tvalidation_0-error:0.20149\n",
      "[3]\tvalidation_0-auc:0.85240\tvalidation_0-error:0.19403\n",
      "[4]\tvalidation_0-auc:0.84424\tvalidation_0-error:0.17164\n",
      "[5]\tvalidation_0-auc:0.85301\tvalidation_0-error:0.16418\n",
      "[6]\tvalidation_0-auc:0.84659\tvalidation_0-error:0.17164\n",
      "[7]\tvalidation_0-auc:0.84783\tvalidation_0-error:0.16418\n",
      "[8]\tvalidation_0-auc:0.84103\tvalidation_0-error:0.14925\n",
      "[9]\tvalidation_0-auc:0.84066\tvalidation_0-error:0.16418\n",
      "[10]\tvalidation_0-auc:0.83918\tvalidation_0-error:0.16418\n",
      "[11]\tvalidation_0-auc:0.83967\tvalidation_0-error:0.16418\n",
      "[12]\tvalidation_0-auc:0.84548\tvalidation_0-error:0.16418\n",
      "[13]\tvalidation_0-auc:0.84461\tvalidation_0-error:0.16418\n",
      "[14]\tvalidation_0-auc:0.84375\tvalidation_0-error:0.16418\n",
      "[15]\tvalidation_0-auc:0.83733\tvalidation_0-error:0.17910\n",
      "[16]\tvalidation_0-auc:0.84251\tvalidation_0-error:0.19403\n",
      "[17]\tvalidation_0-auc:0.84326\tvalidation_0-error:0.19403\n",
      "[18]\tvalidation_0-auc:0.84177\tvalidation_0-error:0.20149\n",
      "[19]\tvalidation_0-auc:0.84276\tvalidation_0-error:0.20149\n"
     ]
    }
   ],
   "source": [
    "xgb_model = xgboost.XGBClassifier(objective=\"binary:logistic\", n_estimators=20, random_state=100, eval_metric=[\"auc\", \"error\"])\n",
    "\n",
    "xgb_model.fit(X_train, y_train, eval_set=[(X_test, y_test)])\n",
    "\n",
    "preds = xgb_model.predict(X_test)"
   ]
  },
  {
   "cell_type": "code",
   "execution_count": 28,
   "id": "49f110e6",
   "metadata": {
    "execution": {
     "iopub.execute_input": "2023-02-24T06:44:14.733802Z",
     "iopub.status.busy": "2023-02-24T06:44:14.733428Z",
     "iopub.status.idle": "2023-02-24T06:44:14.742721Z",
     "shell.execute_reply": "2023-02-24T06:44:14.741834Z"
    },
    "papermill": {
     "duration": 0.030509,
     "end_time": "2023-02-24T06:44:14.745866",
     "exception": false,
     "start_time": "2023-02-24T06:44:14.715357",
     "status": "completed"
    },
    "tags": []
   },
   "outputs": [
    {
     "name": "stdout",
     "output_type": "stream",
     "text": [
      "              precision    recall  f1-score   support\n",
      "\n",
      "           0       0.80      0.92      0.86        88\n",
      "           1       0.79      0.57      0.66        46\n",
      "\n",
      "    accuracy                           0.80       134\n",
      "   macro avg       0.79      0.74      0.76       134\n",
      "weighted avg       0.80      0.80      0.79       134\n",
      "\n"
     ]
    }
   ],
   "source": [
    "report = classification_report(y_test, preds)\n",
    "print(report)"
   ]
  },
  {
   "cell_type": "markdown",
   "id": "29f000cd",
   "metadata": {
    "papermill": {
     "duration": 0.01653,
     "end_time": "2023-02-24T06:44:14.780438",
     "exception": false,
     "start_time": "2023-02-24T06:44:14.763908",
     "status": "completed"
    },
    "tags": []
   },
   "source": [
    "# Experimenting with hyperparameters from the internet"
   ]
  },
  {
   "cell_type": "code",
   "execution_count": 29,
   "id": "e4596fd9",
   "metadata": {
    "execution": {
     "iopub.execute_input": "2023-02-24T06:44:14.815633Z",
     "iopub.status.busy": "2023-02-24T06:44:14.814918Z",
     "iopub.status.idle": "2023-02-24T06:44:15.353132Z",
     "shell.execute_reply": "2023-02-24T06:44:15.351101Z"
    },
    "papermill": {
     "duration": 0.559438,
     "end_time": "2023-02-24T06:44:15.356585",
     "exception": false,
     "start_time": "2023-02-24T06:44:14.797147",
     "status": "completed"
    },
    "tags": []
   },
   "outputs": [],
   "source": [
    "from hyperopt import STATUS_OK, Trials, fmin, hp, tpe\n",
    "#Initialize domain space for range of values \n",
    "space={'max_depth': hp.quniform(\"max_depth\", 3, 18, 1),\n",
    "        'gamma': hp.uniform ('gamma', 1,9),\n",
    "        'reg_alpha' : hp.quniform('reg_alpha', 40,180,1),\n",
    "        'reg_lambda' : hp.uniform('reg_lambda', 0,1),\n",
    "        'colsample_bytree' : hp.uniform('colsample_bytree', 0.5,1),\n",
    "        'min_child_weight' : hp.quniform('min_child_weight', 0, 10, 1),\n",
    "        'n_estimators': 180,\n",
    "        'seed': 0\n",
    "    }"
   ]
  },
  {
   "cell_type": "code",
   "execution_count": 30,
   "id": "7b881fe9",
   "metadata": {
    "execution": {
     "iopub.execute_input": "2023-02-24T06:44:15.394142Z",
     "iopub.status.busy": "2023-02-24T06:44:15.393737Z",
     "iopub.status.idle": "2023-02-24T06:44:15.402374Z",
     "shell.execute_reply": "2023-02-24T06:44:15.400954Z"
    },
    "papermill": {
     "duration": 0.031085,
     "end_time": "2023-02-24T06:44:15.405208",
     "exception": false,
     "start_time": "2023-02-24T06:44:15.374123",
     "status": "completed"
    },
    "tags": []
   },
   "outputs": [],
   "source": [
    "def objective(space):\n",
    "    clf=xgboost.XGBClassifier(\n",
    "                    n_estimators =space['n_estimators'], max_depth = int(space['max_depth']), gamma = space['gamma'],\n",
    "                    reg_alpha = int(space['reg_alpha']),min_child_weight=int(space['min_child_weight']),\n",
    "                    colsample_bytree=int(space['colsample_bytree']))\n",
    "    \n",
    "    evaluation = [(X_test, y_test)]\n",
    "    \n",
    "    clf.fit(X_train, y_train,\n",
    "            eval_set=evaluation, eval_metric=\"auc\",\n",
    "            early_stopping_rounds=10,verbose=False)\n",
    "    \n",
    "\n",
    "    preds = clf.predict(X_test)\n",
    "    accuracy = accuracy_score(y_test, preds>0.5)\n",
    "    print (\"SCORE:\", accuracy)\n",
    "    return {'loss': -accuracy, 'status': STATUS_OK }"
   ]
  },
  {
   "cell_type": "code",
   "execution_count": 31,
   "id": "0f7b4a14",
   "metadata": {
    "execution": {
     "iopub.execute_input": "2023-02-24T06:44:15.441928Z",
     "iopub.status.busy": "2023-02-24T06:44:15.441529Z",
     "iopub.status.idle": "2023-02-24T06:44:30.279355Z",
     "shell.execute_reply": "2023-02-24T06:44:30.278376Z"
    },
    "papermill": {
     "duration": 14.859136,
     "end_time": "2023-02-24T06:44:30.281640",
     "exception": false,
     "start_time": "2023-02-24T06:44:15.422504",
     "status": "completed"
    },
    "tags": []
   },
   "outputs": [
    {
     "name": "stdout",
     "output_type": "stream",
     "text": [
      "SCORE:\n",
      "0.6567164179104478\n",
      "  1%|          | 1/100 [00:00<00:10,  9.36trial/s, best loss: -0.6567164179104478]"
     ]
    },
    {
     "name": "stderr",
     "output_type": "stream",
     "text": [
      "/opt/conda/lib/python3.7/site-packages/xgboost/sklearn.py:797: UserWarning: `eval_metric` in `fit` method is deprecated for better compatibility with scikit-learn, use `eval_metric` in constructor or`set_params` instead.\n",
      "  UserWarning,\n",
      "\n",
      "/opt/conda/lib/python3.7/site-packages/xgboost/sklearn.py:797: UserWarning: `early_stopping_rounds` in `fit` method is deprecated for better compatibility with scikit-learn, use `early_stopping_rounds` in constructor or`set_params` instead.\n",
      "  UserWarning,\n",
      "\n",
      "/opt/conda/lib/python3.7/site-packages/xgboost/sklearn.py:797: UserWarning: `eval_metric` in `fit` method is deprecated for better compatibility with scikit-learn, use `eval_metric` in constructor or`set_params` instead.\n",
      "  UserWarning,\n",
      "\n",
      "/opt/conda/lib/python3.7/site-packages/xgboost/sklearn.py:797: UserWarning: `early_stopping_rounds` in `fit` method is deprecated for better compatibility with scikit-learn, use `early_stopping_rounds` in constructor or`set_params` instead.\n",
      "  UserWarning,\n",
      "\n"
     ]
    },
    {
     "name": "stdout",
     "output_type": "stream",
     "text": [
      "SCORE:\n",
      "0.6567164179104478\n",
      "SCORE:\n",
      "0.6567164179104478\n",
      "  3%|▎         | 3/100 [00:00<00:11,  8.24trial/s, best loss: -0.6567164179104478]"
     ]
    },
    {
     "name": "stderr",
     "output_type": "stream",
     "text": [
      "/opt/conda/lib/python3.7/site-packages/xgboost/sklearn.py:797: UserWarning: `eval_metric` in `fit` method is deprecated for better compatibility with scikit-learn, use `eval_metric` in constructor or`set_params` instead.\n",
      "  UserWarning,\n",
      "\n",
      "/opt/conda/lib/python3.7/site-packages/xgboost/sklearn.py:797: UserWarning: `early_stopping_rounds` in `fit` method is deprecated for better compatibility with scikit-learn, use `early_stopping_rounds` in constructor or`set_params` instead.\n",
      "  UserWarning,\n",
      "\n",
      "/opt/conda/lib/python3.7/site-packages/xgboost/sklearn.py:797: UserWarning: `eval_metric` in `fit` method is deprecated for better compatibility with scikit-learn, use `eval_metric` in constructor or`set_params` instead.\n",
      "  UserWarning,\n",
      "\n",
      "/opt/conda/lib/python3.7/site-packages/xgboost/sklearn.py:797: UserWarning: `early_stopping_rounds` in `fit` method is deprecated for better compatibility with scikit-learn, use `early_stopping_rounds` in constructor or`set_params` instead.\n",
      "  UserWarning,\n",
      "\n"
     ]
    },
    {
     "name": "stdout",
     "output_type": "stream",
     "text": [
      "SCORE:\n",
      "0.6567164179104478\n",
      "SCORE:\n",
      "0.6567164179104478\n",
      "  5%|▌         | 5/100 [00:00<00:11,  8.13trial/s, best loss: -0.6567164179104478]"
     ]
    },
    {
     "name": "stderr",
     "output_type": "stream",
     "text": [
      "/opt/conda/lib/python3.7/site-packages/xgboost/sklearn.py:797: UserWarning: `eval_metric` in `fit` method is deprecated for better compatibility with scikit-learn, use `eval_metric` in constructor or`set_params` instead.\n",
      "  UserWarning,\n",
      "\n",
      "/opt/conda/lib/python3.7/site-packages/xgboost/sklearn.py:797: UserWarning: `early_stopping_rounds` in `fit` method is deprecated for better compatibility with scikit-learn, use `early_stopping_rounds` in constructor or`set_params` instead.\n",
      "  UserWarning,\n",
      "\n",
      "/opt/conda/lib/python3.7/site-packages/xgboost/sklearn.py:797: UserWarning: `eval_metric` in `fit` method is deprecated for better compatibility with scikit-learn, use `eval_metric` in constructor or`set_params` instead.\n",
      "  UserWarning,\n",
      "\n",
      "/opt/conda/lib/python3.7/site-packages/xgboost/sklearn.py:797: UserWarning: `early_stopping_rounds` in `fit` method is deprecated for better compatibility with scikit-learn, use `early_stopping_rounds` in constructor or`set_params` instead.\n",
      "  UserWarning,\n",
      "\n"
     ]
    },
    {
     "name": "stdout",
     "output_type": "stream",
     "text": [
      "SCORE:\n",
      "0.6567164179104478\n",
      "SCORE:\n",
      "0.6567164179104478\n",
      "  7%|▋         | 7/100 [00:00<00:11,  8.15trial/s, best loss: -0.6567164179104478]"
     ]
    },
    {
     "name": "stderr",
     "output_type": "stream",
     "text": [
      "/opt/conda/lib/python3.7/site-packages/xgboost/sklearn.py:797: UserWarning: `eval_metric` in `fit` method is deprecated for better compatibility with scikit-learn, use `eval_metric` in constructor or`set_params` instead.\n",
      "  UserWarning,\n",
      "\n",
      "/opt/conda/lib/python3.7/site-packages/xgboost/sklearn.py:797: UserWarning: `early_stopping_rounds` in `fit` method is deprecated for better compatibility with scikit-learn, use `early_stopping_rounds` in constructor or`set_params` instead.\n",
      "  UserWarning,\n",
      "\n",
      "/opt/conda/lib/python3.7/site-packages/xgboost/sklearn.py:797: UserWarning: `eval_metric` in `fit` method is deprecated for better compatibility with scikit-learn, use `eval_metric` in constructor or`set_params` instead.\n",
      "  UserWarning,\n",
      "\n",
      "/opt/conda/lib/python3.7/site-packages/xgboost/sklearn.py:797: UserWarning: `early_stopping_rounds` in `fit` method is deprecated for better compatibility with scikit-learn, use `early_stopping_rounds` in constructor or`set_params` instead.\n",
      "  UserWarning,\n",
      "\n"
     ]
    },
    {
     "name": "stdout",
     "output_type": "stream",
     "text": [
      "SCORE:\n",
      "0.6567164179104478\n",
      "SCORE:\n",
      "0.6567164179104478\n",
      "  9%|▉         | 9/100 [00:01<00:11,  8.08trial/s, best loss: -0.6567164179104478]"
     ]
    },
    {
     "name": "stderr",
     "output_type": "stream",
     "text": [
      "/opt/conda/lib/python3.7/site-packages/xgboost/sklearn.py:797: UserWarning: `eval_metric` in `fit` method is deprecated for better compatibility with scikit-learn, use `eval_metric` in constructor or`set_params` instead.\n",
      "  UserWarning,\n",
      "\n",
      "/opt/conda/lib/python3.7/site-packages/xgboost/sklearn.py:797: UserWarning: `early_stopping_rounds` in `fit` method is deprecated for better compatibility with scikit-learn, use `early_stopping_rounds` in constructor or`set_params` instead.\n",
      "  UserWarning,\n",
      "\n",
      "/opt/conda/lib/python3.7/site-packages/xgboost/sklearn.py:797: UserWarning: `eval_metric` in `fit` method is deprecated for better compatibility with scikit-learn, use `eval_metric` in constructor or`set_params` instead.\n",
      "  UserWarning,\n",
      "\n",
      "/opt/conda/lib/python3.7/site-packages/xgboost/sklearn.py:797: UserWarning: `early_stopping_rounds` in `fit` method is deprecated for better compatibility with scikit-learn, use `early_stopping_rounds` in constructor or`set_params` instead.\n",
      "  UserWarning,\n",
      "\n"
     ]
    },
    {
     "name": "stdout",
     "output_type": "stream",
     "text": [
      "SCORE:\n",
      "0.6567164179104478\n",
      "SCORE:\n",
      "0.6567164179104478\n",
      " 11%|█         | 11/100 [00:01<00:10,  8.35trial/s, best loss: -0.6567164179104478]"
     ]
    },
    {
     "name": "stderr",
     "output_type": "stream",
     "text": [
      "/opt/conda/lib/python3.7/site-packages/xgboost/sklearn.py:797: UserWarning: `eval_metric` in `fit` method is deprecated for better compatibility with scikit-learn, use `eval_metric` in constructor or`set_params` instead.\n",
      "  UserWarning,\n",
      "\n",
      "/opt/conda/lib/python3.7/site-packages/xgboost/sklearn.py:797: UserWarning: `early_stopping_rounds` in `fit` method is deprecated for better compatibility with scikit-learn, use `early_stopping_rounds` in constructor or`set_params` instead.\n",
      "  UserWarning,\n",
      "\n",
      "/opt/conda/lib/python3.7/site-packages/xgboost/sklearn.py:797: UserWarning: `eval_metric` in `fit` method is deprecated for better compatibility with scikit-learn, use `eval_metric` in constructor or`set_params` instead.\n",
      "  UserWarning,\n",
      "\n",
      "/opt/conda/lib/python3.7/site-packages/xgboost/sklearn.py:797: UserWarning: `early_stopping_rounds` in `fit` method is deprecated for better compatibility with scikit-learn, use `early_stopping_rounds` in constructor or`set_params` instead.\n",
      "  UserWarning,\n",
      "\n"
     ]
    },
    {
     "name": "stdout",
     "output_type": "stream",
     "text": [
      "SCORE:\n",
      "0.6567164179104478\n",
      "SCORE:\n",
      "0.6567164179104478\n",
      " 13%|█▎        | 13/100 [00:01<00:10,  8.18trial/s, best loss: -0.6567164179104478]"
     ]
    },
    {
     "name": "stderr",
     "output_type": "stream",
     "text": [
      "/opt/conda/lib/python3.7/site-packages/xgboost/sklearn.py:797: UserWarning: `eval_metric` in `fit` method is deprecated for better compatibility with scikit-learn, use `eval_metric` in constructor or`set_params` instead.\n",
      "  UserWarning,\n",
      "\n",
      "/opt/conda/lib/python3.7/site-packages/xgboost/sklearn.py:797: UserWarning: `early_stopping_rounds` in `fit` method is deprecated for better compatibility with scikit-learn, use `early_stopping_rounds` in constructor or`set_params` instead.\n",
      "  UserWarning,\n",
      "\n",
      "/opt/conda/lib/python3.7/site-packages/xgboost/sklearn.py:797: UserWarning: `eval_metric` in `fit` method is deprecated for better compatibility with scikit-learn, use `eval_metric` in constructor or`set_params` instead.\n",
      "  UserWarning,\n",
      "\n",
      "/opt/conda/lib/python3.7/site-packages/xgboost/sklearn.py:797: UserWarning: `early_stopping_rounds` in `fit` method is deprecated for better compatibility with scikit-learn, use `early_stopping_rounds` in constructor or`set_params` instead.\n",
      "  UserWarning,\n",
      "\n"
     ]
    },
    {
     "name": "stdout",
     "output_type": "stream",
     "text": [
      "SCORE:\n",
      "0.6567164179104478\n",
      "SCORE:\n",
      "0.8059701492537313\n",
      " 15%|█▌        | 15/100 [00:01<00:11,  7.66trial/s, best loss: -0.8059701492537313]"
     ]
    },
    {
     "name": "stderr",
     "output_type": "stream",
     "text": [
      "/opt/conda/lib/python3.7/site-packages/xgboost/sklearn.py:797: UserWarning: `eval_metric` in `fit` method is deprecated for better compatibility with scikit-learn, use `eval_metric` in constructor or`set_params` instead.\n",
      "  UserWarning,\n",
      "\n",
      "/opt/conda/lib/python3.7/site-packages/xgboost/sklearn.py:797: UserWarning: `early_stopping_rounds` in `fit` method is deprecated for better compatibility with scikit-learn, use `early_stopping_rounds` in constructor or`set_params` instead.\n",
      "  UserWarning,\n",
      "\n",
      "/opt/conda/lib/python3.7/site-packages/xgboost/sklearn.py:797: UserWarning: `eval_metric` in `fit` method is deprecated for better compatibility with scikit-learn, use `eval_metric` in constructor or`set_params` instead.\n",
      "  UserWarning,\n",
      "\n",
      "/opt/conda/lib/python3.7/site-packages/xgboost/sklearn.py:797: UserWarning: `early_stopping_rounds` in `fit` method is deprecated for better compatibility with scikit-learn, use `early_stopping_rounds` in constructor or`set_params` instead.\n",
      "  UserWarning,\n",
      "\n"
     ]
    },
    {
     "name": "stdout",
     "output_type": "stream",
     "text": [
      "SCORE:\n",
      "0.6567164179104478\n",
      "SCORE:\n",
      "0.6567164179104478\n",
      " 17%|█▋        | 17/100 [00:02<00:10,  8.23trial/s, best loss: -0.8059701492537313]"
     ]
    },
    {
     "name": "stderr",
     "output_type": "stream",
     "text": [
      "/opt/conda/lib/python3.7/site-packages/xgboost/sklearn.py:797: UserWarning: `eval_metric` in `fit` method is deprecated for better compatibility with scikit-learn, use `eval_metric` in constructor or`set_params` instead.\n",
      "  UserWarning,\n",
      "\n",
      "/opt/conda/lib/python3.7/site-packages/xgboost/sklearn.py:797: UserWarning: `early_stopping_rounds` in `fit` method is deprecated for better compatibility with scikit-learn, use `early_stopping_rounds` in constructor or`set_params` instead.\n",
      "  UserWarning,\n",
      "\n",
      "/opt/conda/lib/python3.7/site-packages/xgboost/sklearn.py:797: UserWarning: `eval_metric` in `fit` method is deprecated for better compatibility with scikit-learn, use `eval_metric` in constructor or`set_params` instead.\n",
      "  UserWarning,\n",
      "\n",
      "/opt/conda/lib/python3.7/site-packages/xgboost/sklearn.py:797: UserWarning: `early_stopping_rounds` in `fit` method is deprecated for better compatibility with scikit-learn, use `early_stopping_rounds` in constructor or`set_params` instead.\n",
      "  UserWarning,\n",
      "\n"
     ]
    },
    {
     "name": "stdout",
     "output_type": "stream",
     "text": [
      "SCORE:\n",
      "0.6567164179104478\n",
      "SCORE:\n",
      "0.6567164179104478\n",
      " 19%|█▉        | 19/100 [00:02<00:09,  8.10trial/s, best loss: -0.8059701492537313]"
     ]
    },
    {
     "name": "stderr",
     "output_type": "stream",
     "text": [
      "/opt/conda/lib/python3.7/site-packages/xgboost/sklearn.py:797: UserWarning: `eval_metric` in `fit` method is deprecated for better compatibility with scikit-learn, use `eval_metric` in constructor or`set_params` instead.\n",
      "  UserWarning,\n",
      "\n",
      "/opt/conda/lib/python3.7/site-packages/xgboost/sklearn.py:797: UserWarning: `early_stopping_rounds` in `fit` method is deprecated for better compatibility with scikit-learn, use `early_stopping_rounds` in constructor or`set_params` instead.\n",
      "  UserWarning,\n",
      "\n",
      "/opt/conda/lib/python3.7/site-packages/xgboost/sklearn.py:797: UserWarning: `eval_metric` in `fit` method is deprecated for better compatibility with scikit-learn, use `eval_metric` in constructor or`set_params` instead.\n",
      "  UserWarning,\n",
      "\n",
      "/opt/conda/lib/python3.7/site-packages/xgboost/sklearn.py:797: UserWarning: `early_stopping_rounds` in `fit` method is deprecated for better compatibility with scikit-learn, use `early_stopping_rounds` in constructor or`set_params` instead.\n",
      "  UserWarning,\n",
      "\n"
     ]
    },
    {
     "name": "stdout",
     "output_type": "stream",
     "text": [
      "SCORE:\n",
      "0.6567164179104478\n",
      "SCORE:\n",
      "0.6567164179104478\n",
      " 21%|██        | 21/100 [00:02<00:09,  8.38trial/s, best loss: -0.8059701492537313]"
     ]
    },
    {
     "name": "stderr",
     "output_type": "stream",
     "text": [
      "/opt/conda/lib/python3.7/site-packages/xgboost/sklearn.py:797: UserWarning: `eval_metric` in `fit` method is deprecated for better compatibility with scikit-learn, use `eval_metric` in constructor or`set_params` instead.\n",
      "  UserWarning,\n",
      "\n",
      "/opt/conda/lib/python3.7/site-packages/xgboost/sklearn.py:797: UserWarning: `early_stopping_rounds` in `fit` method is deprecated for better compatibility with scikit-learn, use `early_stopping_rounds` in constructor or`set_params` instead.\n",
      "  UserWarning,\n",
      "\n",
      "/opt/conda/lib/python3.7/site-packages/xgboost/sklearn.py:797: UserWarning: `eval_metric` in `fit` method is deprecated for better compatibility with scikit-learn, use `eval_metric` in constructor or`set_params` instead.\n",
      "  UserWarning,\n",
      "\n",
      "/opt/conda/lib/python3.7/site-packages/xgboost/sklearn.py:797: UserWarning: `early_stopping_rounds` in `fit` method is deprecated for better compatibility with scikit-learn, use `early_stopping_rounds` in constructor or`set_params` instead.\n",
      "  UserWarning,\n",
      "\n"
     ]
    },
    {
     "name": "stdout",
     "output_type": "stream",
     "text": [
      "SCORE:\n",
      "0.8059701492537313\n",
      "SCORE:\n",
      "0.746268656716418\n",
      " 23%|██▎       | 23/100 [00:02<00:11,  6.46trial/s, best loss: -0.8059701492537313]"
     ]
    },
    {
     "name": "stderr",
     "output_type": "stream",
     "text": [
      "/opt/conda/lib/python3.7/site-packages/xgboost/sklearn.py:797: UserWarning: `eval_metric` in `fit` method is deprecated for better compatibility with scikit-learn, use `eval_metric` in constructor or`set_params` instead.\n",
      "  UserWarning,\n",
      "\n",
      "/opt/conda/lib/python3.7/site-packages/xgboost/sklearn.py:797: UserWarning: `early_stopping_rounds` in `fit` method is deprecated for better compatibility with scikit-learn, use `early_stopping_rounds` in constructor or`set_params` instead.\n",
      "  UserWarning,\n",
      "\n",
      "/opt/conda/lib/python3.7/site-packages/xgboost/sklearn.py:797: UserWarning: `eval_metric` in `fit` method is deprecated for better compatibility with scikit-learn, use `eval_metric` in constructor or`set_params` instead.\n",
      "  UserWarning,\n",
      "\n",
      "/opt/conda/lib/python3.7/site-packages/xgboost/sklearn.py:797: UserWarning: `early_stopping_rounds` in `fit` method is deprecated for better compatibility with scikit-learn, use `early_stopping_rounds` in constructor or`set_params` instead.\n",
      "  UserWarning,\n",
      "\n"
     ]
    },
    {
     "name": "stdout",
     "output_type": "stream",
     "text": [
      "SCORE:\n",
      "0.7686567164179104\n",
      "SCORE:\n",
      "0.8059701492537313\n",
      " 25%|██▌       | 25/100 [00:03<00:12,  6.13trial/s, best loss: -0.8059701492537313]"
     ]
    },
    {
     "name": "stderr",
     "output_type": "stream",
     "text": [
      "/opt/conda/lib/python3.7/site-packages/xgboost/sklearn.py:797: UserWarning: `eval_metric` in `fit` method is deprecated for better compatibility with scikit-learn, use `eval_metric` in constructor or`set_params` instead.\n",
      "  UserWarning,\n",
      "\n",
      "/opt/conda/lib/python3.7/site-packages/xgboost/sklearn.py:797: UserWarning: `early_stopping_rounds` in `fit` method is deprecated for better compatibility with scikit-learn, use `early_stopping_rounds` in constructor or`set_params` instead.\n",
      "  UserWarning,\n",
      "\n",
      "/opt/conda/lib/python3.7/site-packages/xgboost/sklearn.py:797: UserWarning: `eval_metric` in `fit` method is deprecated for better compatibility with scikit-learn, use `eval_metric` in constructor or`set_params` instead.\n",
      "  UserWarning,\n",
      "\n",
      "/opt/conda/lib/python3.7/site-packages/xgboost/sklearn.py:797: UserWarning: `early_stopping_rounds` in `fit` method is deprecated for better compatibility with scikit-learn, use `early_stopping_rounds` in constructor or`set_params` instead.\n",
      "  UserWarning,\n",
      "\n"
     ]
    },
    {
     "name": "stdout",
     "output_type": "stream",
     "text": [
      "SCORE:\n",
      "0.8059701492537313\n",
      "SCORE:\n",
      "0.6567164179104478\n",
      " 27%|██▋       | 27/100 [00:03<00:11,  6.30trial/s, best loss: -0.8059701492537313]"
     ]
    },
    {
     "name": "stderr",
     "output_type": "stream",
     "text": [
      "/opt/conda/lib/python3.7/site-packages/xgboost/sklearn.py:797: UserWarning: `eval_metric` in `fit` method is deprecated for better compatibility with scikit-learn, use `eval_metric` in constructor or`set_params` instead.\n",
      "  UserWarning,\n",
      "\n",
      "/opt/conda/lib/python3.7/site-packages/xgboost/sklearn.py:797: UserWarning: `early_stopping_rounds` in `fit` method is deprecated for better compatibility with scikit-learn, use `early_stopping_rounds` in constructor or`set_params` instead.\n",
      "  UserWarning,\n",
      "\n",
      "/opt/conda/lib/python3.7/site-packages/xgboost/sklearn.py:797: UserWarning: `eval_metric` in `fit` method is deprecated for better compatibility with scikit-learn, use `eval_metric` in constructor or`set_params` instead.\n",
      "  UserWarning,\n",
      "\n",
      "/opt/conda/lib/python3.7/site-packages/xgboost/sklearn.py:797: UserWarning: `early_stopping_rounds` in `fit` method is deprecated for better compatibility with scikit-learn, use `early_stopping_rounds` in constructor or`set_params` instead.\n",
      "  UserWarning,\n",
      "\n"
     ]
    },
    {
     "name": "stdout",
     "output_type": "stream",
     "text": [
      "SCORE:\n",
      "0.6567164179104478\n",
      "SCORE:\n",
      "0.6567164179104478\n",
      " 29%|██▉       | 29/100 [00:03<00:10,  6.76trial/s, best loss: -0.8059701492537313]"
     ]
    },
    {
     "name": "stderr",
     "output_type": "stream",
     "text": [
      "/opt/conda/lib/python3.7/site-packages/xgboost/sklearn.py:797: UserWarning: `eval_metric` in `fit` method is deprecated for better compatibility with scikit-learn, use `eval_metric` in constructor or`set_params` instead.\n",
      "  UserWarning,\n",
      "\n",
      "/opt/conda/lib/python3.7/site-packages/xgboost/sklearn.py:797: UserWarning: `early_stopping_rounds` in `fit` method is deprecated for better compatibility with scikit-learn, use `early_stopping_rounds` in constructor or`set_params` instead.\n",
      "  UserWarning,\n",
      "\n",
      "/opt/conda/lib/python3.7/site-packages/xgboost/sklearn.py:797: UserWarning: `eval_metric` in `fit` method is deprecated for better compatibility with scikit-learn, use `eval_metric` in constructor or`set_params` instead.\n",
      "  UserWarning,\n",
      "\n",
      "/opt/conda/lib/python3.7/site-packages/xgboost/sklearn.py:797: UserWarning: `early_stopping_rounds` in `fit` method is deprecated for better compatibility with scikit-learn, use `early_stopping_rounds` in constructor or`set_params` instead.\n",
      "  UserWarning,\n",
      "\n"
     ]
    },
    {
     "name": "stdout",
     "output_type": "stream",
     "text": [
      "SCORE:\n",
      "0.6567164179104478\n",
      "SCORE:\n",
      "0.6567164179104478\n",
      " 31%|███       | 31/100 [00:04<00:09,  7.04trial/s, best loss: -0.8059701492537313]"
     ]
    },
    {
     "name": "stderr",
     "output_type": "stream",
     "text": [
      "/opt/conda/lib/python3.7/site-packages/xgboost/sklearn.py:797: UserWarning: `eval_metric` in `fit` method is deprecated for better compatibility with scikit-learn, use `eval_metric` in constructor or`set_params` instead.\n",
      "  UserWarning,\n",
      "\n",
      "/opt/conda/lib/python3.7/site-packages/xgboost/sklearn.py:797: UserWarning: `early_stopping_rounds` in `fit` method is deprecated for better compatibility with scikit-learn, use `early_stopping_rounds` in constructor or`set_params` instead.\n",
      "  UserWarning,\n",
      "\n",
      "/opt/conda/lib/python3.7/site-packages/xgboost/sklearn.py:797: UserWarning: `eval_metric` in `fit` method is deprecated for better compatibility with scikit-learn, use `eval_metric` in constructor or`set_params` instead.\n",
      "  UserWarning,\n",
      "\n",
      "/opt/conda/lib/python3.7/site-packages/xgboost/sklearn.py:797: UserWarning: `early_stopping_rounds` in `fit` method is deprecated for better compatibility with scikit-learn, use `early_stopping_rounds` in constructor or`set_params` instead.\n",
      "  UserWarning,\n",
      "\n"
     ]
    },
    {
     "name": "stdout",
     "output_type": "stream",
     "text": [
      "SCORE:\n",
      "0.6567164179104478\n",
      "SCORE:\n",
      "0.6567164179104478\n",
      " 33%|███▎      | 33/100 [00:04<00:09,  6.87trial/s, best loss: -0.8059701492537313]"
     ]
    },
    {
     "name": "stderr",
     "output_type": "stream",
     "text": [
      "/opt/conda/lib/python3.7/site-packages/xgboost/sklearn.py:797: UserWarning: `eval_metric` in `fit` method is deprecated for better compatibility with scikit-learn, use `eval_metric` in constructor or`set_params` instead.\n",
      "  UserWarning,\n",
      "\n",
      "/opt/conda/lib/python3.7/site-packages/xgboost/sklearn.py:797: UserWarning: `early_stopping_rounds` in `fit` method is deprecated for better compatibility with scikit-learn, use `early_stopping_rounds` in constructor or`set_params` instead.\n",
      "  UserWarning,\n",
      "\n",
      "/opt/conda/lib/python3.7/site-packages/xgboost/sklearn.py:797: UserWarning: `eval_metric` in `fit` method is deprecated for better compatibility with scikit-learn, use `eval_metric` in constructor or`set_params` instead.\n",
      "  UserWarning,\n",
      "\n",
      "/opt/conda/lib/python3.7/site-packages/xgboost/sklearn.py:797: UserWarning: `early_stopping_rounds` in `fit` method is deprecated for better compatibility with scikit-learn, use `early_stopping_rounds` in constructor or`set_params` instead.\n",
      "  UserWarning,\n",
      "\n"
     ]
    },
    {
     "name": "stdout",
     "output_type": "stream",
     "text": [
      "SCORE:\n",
      "0.6567164179104478\n",
      "SCORE:\n",
      "0.6567164179104478\n",
      " 35%|███▌      | 35/100 [00:04<00:09,  7.21trial/s, best loss: -0.8059701492537313]"
     ]
    },
    {
     "name": "stderr",
     "output_type": "stream",
     "text": [
      "/opt/conda/lib/python3.7/site-packages/xgboost/sklearn.py:797: UserWarning: `eval_metric` in `fit` method is deprecated for better compatibility with scikit-learn, use `eval_metric` in constructor or`set_params` instead.\n",
      "  UserWarning,\n",
      "\n",
      "/opt/conda/lib/python3.7/site-packages/xgboost/sklearn.py:797: UserWarning: `early_stopping_rounds` in `fit` method is deprecated for better compatibility with scikit-learn, use `early_stopping_rounds` in constructor or`set_params` instead.\n",
      "  UserWarning,\n",
      "\n",
      "/opt/conda/lib/python3.7/site-packages/xgboost/sklearn.py:797: UserWarning: `eval_metric` in `fit` method is deprecated for better compatibility with scikit-learn, use `eval_metric` in constructor or`set_params` instead.\n",
      "  UserWarning,\n",
      "\n",
      "/opt/conda/lib/python3.7/site-packages/xgboost/sklearn.py:797: UserWarning: `early_stopping_rounds` in `fit` method is deprecated for better compatibility with scikit-learn, use `early_stopping_rounds` in constructor or`set_params` instead.\n",
      "  UserWarning,\n",
      "\n"
     ]
    },
    {
     "name": "stdout",
     "output_type": "stream",
     "text": [
      "SCORE:\n",
      "0.8059701492537313\n",
      "SCORE:\n",
      "0.6567164179104478\n",
      " 37%|███▋      | 37/100 [00:05<00:09,  6.80trial/s, best loss: -0.8059701492537313]"
     ]
    },
    {
     "name": "stderr",
     "output_type": "stream",
     "text": [
      "/opt/conda/lib/python3.7/site-packages/xgboost/sklearn.py:797: UserWarning: `eval_metric` in `fit` method is deprecated for better compatibility with scikit-learn, use `eval_metric` in constructor or`set_params` instead.\n",
      "  UserWarning,\n",
      "\n",
      "/opt/conda/lib/python3.7/site-packages/xgboost/sklearn.py:797: UserWarning: `early_stopping_rounds` in `fit` method is deprecated for better compatibility with scikit-learn, use `early_stopping_rounds` in constructor or`set_params` instead.\n",
      "  UserWarning,\n",
      "\n",
      "/opt/conda/lib/python3.7/site-packages/xgboost/sklearn.py:797: UserWarning: `eval_metric` in `fit` method is deprecated for better compatibility with scikit-learn, use `eval_metric` in constructor or`set_params` instead.\n",
      "  UserWarning,\n",
      "\n",
      "/opt/conda/lib/python3.7/site-packages/xgboost/sklearn.py:797: UserWarning: `early_stopping_rounds` in `fit` method is deprecated for better compatibility with scikit-learn, use `early_stopping_rounds` in constructor or`set_params` instead.\n",
      "  UserWarning,\n",
      "\n"
     ]
    },
    {
     "name": "stdout",
     "output_type": "stream",
     "text": [
      "SCORE:\n",
      "0.6567164179104478\n",
      "SCORE:\n",
      "0.746268656716418\n",
      " 39%|███▉      | 39/100 [00:05<00:09,  6.73trial/s, best loss: -0.8059701492537313]"
     ]
    },
    {
     "name": "stderr",
     "output_type": "stream",
     "text": [
      "/opt/conda/lib/python3.7/site-packages/xgboost/sklearn.py:797: UserWarning: `eval_metric` in `fit` method is deprecated for better compatibility with scikit-learn, use `eval_metric` in constructor or`set_params` instead.\n",
      "  UserWarning,\n",
      "\n",
      "/opt/conda/lib/python3.7/site-packages/xgboost/sklearn.py:797: UserWarning: `early_stopping_rounds` in `fit` method is deprecated for better compatibility with scikit-learn, use `early_stopping_rounds` in constructor or`set_params` instead.\n",
      "  UserWarning,\n",
      "\n",
      "/opt/conda/lib/python3.7/site-packages/xgboost/sklearn.py:797: UserWarning: `eval_metric` in `fit` method is deprecated for better compatibility with scikit-learn, use `eval_metric` in constructor or`set_params` instead.\n",
      "  UserWarning,\n",
      "\n",
      "/opt/conda/lib/python3.7/site-packages/xgboost/sklearn.py:797: UserWarning: `early_stopping_rounds` in `fit` method is deprecated for better compatibility with scikit-learn, use `early_stopping_rounds` in constructor or`set_params` instead.\n",
      "  UserWarning,\n",
      "\n"
     ]
    },
    {
     "name": "stdout",
     "output_type": "stream",
     "text": [
      "SCORE:\n",
      "0.6567164179104478\n",
      "SCORE:\n",
      "0.746268656716418\n",
      " 41%|████      | 41/100 [00:05<00:08,  6.56trial/s, best loss: -0.8059701492537313]"
     ]
    },
    {
     "name": "stderr",
     "output_type": "stream",
     "text": [
      "/opt/conda/lib/python3.7/site-packages/xgboost/sklearn.py:797: UserWarning: `eval_metric` in `fit` method is deprecated for better compatibility with scikit-learn, use `eval_metric` in constructor or`set_params` instead.\n",
      "  UserWarning,\n",
      "\n",
      "/opt/conda/lib/python3.7/site-packages/xgboost/sklearn.py:797: UserWarning: `early_stopping_rounds` in `fit` method is deprecated for better compatibility with scikit-learn, use `early_stopping_rounds` in constructor or`set_params` instead.\n",
      "  UserWarning,\n",
      "\n",
      "/opt/conda/lib/python3.7/site-packages/xgboost/sklearn.py:797: UserWarning: `eval_metric` in `fit` method is deprecated for better compatibility with scikit-learn, use `eval_metric` in constructor or`set_params` instead.\n",
      "  UserWarning,\n",
      "\n",
      "/opt/conda/lib/python3.7/site-packages/xgboost/sklearn.py:797: UserWarning: `early_stopping_rounds` in `fit` method is deprecated for better compatibility with scikit-learn, use `early_stopping_rounds` in constructor or`set_params` instead.\n",
      "  UserWarning,\n",
      "\n"
     ]
    },
    {
     "name": "stdout",
     "output_type": "stream",
     "text": [
      "SCORE:\n",
      "0.6567164179104478\n",
      "SCORE:\n",
      "0.6567164179104478\n",
      " 43%|████▎     | 43/100 [00:05<00:08,  6.72trial/s, best loss: -0.8059701492537313]"
     ]
    },
    {
     "name": "stderr",
     "output_type": "stream",
     "text": [
      "/opt/conda/lib/python3.7/site-packages/xgboost/sklearn.py:797: UserWarning: `eval_metric` in `fit` method is deprecated for better compatibility with scikit-learn, use `eval_metric` in constructor or`set_params` instead.\n",
      "  UserWarning,\n",
      "\n",
      "/opt/conda/lib/python3.7/site-packages/xgboost/sklearn.py:797: UserWarning: `early_stopping_rounds` in `fit` method is deprecated for better compatibility with scikit-learn, use `early_stopping_rounds` in constructor or`set_params` instead.\n",
      "  UserWarning,\n",
      "\n",
      "/opt/conda/lib/python3.7/site-packages/xgboost/sklearn.py:797: UserWarning: `eval_metric` in `fit` method is deprecated for better compatibility with scikit-learn, use `eval_metric` in constructor or`set_params` instead.\n",
      "  UserWarning,\n",
      "\n",
      "/opt/conda/lib/python3.7/site-packages/xgboost/sklearn.py:797: UserWarning: `early_stopping_rounds` in `fit` method is deprecated for better compatibility with scikit-learn, use `early_stopping_rounds` in constructor or`set_params` instead.\n",
      "  UserWarning,\n",
      "\n"
     ]
    },
    {
     "name": "stdout",
     "output_type": "stream",
     "text": [
      "SCORE:\n",
      "0.6567164179104478\n",
      "SCORE:\n",
      "0.7686567164179104\n",
      " 45%|████▌     | 45/100 [00:06<00:08,  6.47trial/s, best loss: -0.8059701492537313]"
     ]
    },
    {
     "name": "stderr",
     "output_type": "stream",
     "text": [
      "/opt/conda/lib/python3.7/site-packages/xgboost/sklearn.py:797: UserWarning: `eval_metric` in `fit` method is deprecated for better compatibility with scikit-learn, use `eval_metric` in constructor or`set_params` instead.\n",
      "  UserWarning,\n",
      "\n",
      "/opt/conda/lib/python3.7/site-packages/xgboost/sklearn.py:797: UserWarning: `early_stopping_rounds` in `fit` method is deprecated for better compatibility with scikit-learn, use `early_stopping_rounds` in constructor or`set_params` instead.\n",
      "  UserWarning,\n",
      "\n",
      "/opt/conda/lib/python3.7/site-packages/xgboost/sklearn.py:797: UserWarning: `eval_metric` in `fit` method is deprecated for better compatibility with scikit-learn, use `eval_metric` in constructor or`set_params` instead.\n",
      "  UserWarning,\n",
      "\n",
      "/opt/conda/lib/python3.7/site-packages/xgboost/sklearn.py:797: UserWarning: `early_stopping_rounds` in `fit` method is deprecated for better compatibility with scikit-learn, use `early_stopping_rounds` in constructor or`set_params` instead.\n",
      "  UserWarning,\n",
      "\n"
     ]
    },
    {
     "name": "stdout",
     "output_type": "stream",
     "text": [
      "SCORE:\n",
      "0.6567164179104478\n",
      "SCORE:\n",
      "0.6567164179104478\n",
      " 47%|████▋     | 47/100 [00:06<00:07,  6.69trial/s, best loss: -0.8059701492537313]"
     ]
    },
    {
     "name": "stderr",
     "output_type": "stream",
     "text": [
      "/opt/conda/lib/python3.7/site-packages/xgboost/sklearn.py:797: UserWarning: `eval_metric` in `fit` method is deprecated for better compatibility with scikit-learn, use `eval_metric` in constructor or`set_params` instead.\n",
      "  UserWarning,\n",
      "\n",
      "/opt/conda/lib/python3.7/site-packages/xgboost/sklearn.py:797: UserWarning: `early_stopping_rounds` in `fit` method is deprecated for better compatibility with scikit-learn, use `early_stopping_rounds` in constructor or`set_params` instead.\n",
      "  UserWarning,\n",
      "\n",
      "/opt/conda/lib/python3.7/site-packages/xgboost/sklearn.py:797: UserWarning: `eval_metric` in `fit` method is deprecated for better compatibility with scikit-learn, use `eval_metric` in constructor or`set_params` instead.\n",
      "  UserWarning,\n",
      "\n",
      "/opt/conda/lib/python3.7/site-packages/xgboost/sklearn.py:797: UserWarning: `early_stopping_rounds` in `fit` method is deprecated for better compatibility with scikit-learn, use `early_stopping_rounds` in constructor or`set_params` instead.\n",
      "  UserWarning,\n",
      "\n"
     ]
    },
    {
     "name": "stdout",
     "output_type": "stream",
     "text": [
      "SCORE:\n",
      "0.6567164179104478\n",
      "SCORE:\n",
      "0.6567164179104478\n",
      " 49%|████▉     | 49/100 [00:06<00:07,  7.02trial/s, best loss: -0.8059701492537313]"
     ]
    },
    {
     "name": "stderr",
     "output_type": "stream",
     "text": [
      "/opt/conda/lib/python3.7/site-packages/xgboost/sklearn.py:797: UserWarning: `eval_metric` in `fit` method is deprecated for better compatibility with scikit-learn, use `eval_metric` in constructor or`set_params` instead.\n",
      "  UserWarning,\n",
      "\n",
      "/opt/conda/lib/python3.7/site-packages/xgboost/sklearn.py:797: UserWarning: `early_stopping_rounds` in `fit` method is deprecated for better compatibility with scikit-learn, use `early_stopping_rounds` in constructor or`set_params` instead.\n",
      "  UserWarning,\n",
      "\n",
      "/opt/conda/lib/python3.7/site-packages/xgboost/sklearn.py:797: UserWarning: `eval_metric` in `fit` method is deprecated for better compatibility with scikit-learn, use `eval_metric` in constructor or`set_params` instead.\n",
      "  UserWarning,\n",
      "\n",
      "/opt/conda/lib/python3.7/site-packages/xgboost/sklearn.py:797: UserWarning: `early_stopping_rounds` in `fit` method is deprecated for better compatibility with scikit-learn, use `early_stopping_rounds` in constructor or`set_params` instead.\n",
      "  UserWarning,\n",
      "\n"
     ]
    },
    {
     "name": "stdout",
     "output_type": "stream",
     "text": [
      "SCORE:\n",
      "0.7686567164179104\n",
      "SCORE:\n",
      "0.6567164179104478\n",
      " 51%|█████     | 51/100 [00:07<00:07,  6.44trial/s, best loss: -0.8059701492537313]"
     ]
    },
    {
     "name": "stderr",
     "output_type": "stream",
     "text": [
      "/opt/conda/lib/python3.7/site-packages/xgboost/sklearn.py:797: UserWarning: `eval_metric` in `fit` method is deprecated for better compatibility with scikit-learn, use `eval_metric` in constructor or`set_params` instead.\n",
      "  UserWarning,\n",
      "\n",
      "/opt/conda/lib/python3.7/site-packages/xgboost/sklearn.py:797: UserWarning: `early_stopping_rounds` in `fit` method is deprecated for better compatibility with scikit-learn, use `early_stopping_rounds` in constructor or`set_params` instead.\n",
      "  UserWarning,\n",
      "\n",
      "/opt/conda/lib/python3.7/site-packages/xgboost/sklearn.py:797: UserWarning: `eval_metric` in `fit` method is deprecated for better compatibility with scikit-learn, use `eval_metric` in constructor or`set_params` instead.\n",
      "  UserWarning,\n",
      "\n",
      "/opt/conda/lib/python3.7/site-packages/xgboost/sklearn.py:797: UserWarning: `early_stopping_rounds` in `fit` method is deprecated for better compatibility with scikit-learn, use `early_stopping_rounds` in constructor or`set_params` instead.\n",
      "  UserWarning,\n",
      "\n"
     ]
    },
    {
     "name": "stdout",
     "output_type": "stream",
     "text": [
      "SCORE:\n",
      "0.6567164179104478\n",
      "SCORE:\n",
      "0.6567164179104478\n",
      " 53%|█████▎    | 53/100 [00:07<00:07,  5.99trial/s, best loss: -0.8059701492537313]"
     ]
    },
    {
     "name": "stderr",
     "output_type": "stream",
     "text": [
      "/opt/conda/lib/python3.7/site-packages/xgboost/sklearn.py:797: UserWarning: `eval_metric` in `fit` method is deprecated for better compatibility with scikit-learn, use `eval_metric` in constructor or`set_params` instead.\n",
      "  UserWarning,\n",
      "\n",
      "/opt/conda/lib/python3.7/site-packages/xgboost/sklearn.py:797: UserWarning: `early_stopping_rounds` in `fit` method is deprecated for better compatibility with scikit-learn, use `early_stopping_rounds` in constructor or`set_params` instead.\n",
      "  UserWarning,\n",
      "\n",
      "/opt/conda/lib/python3.7/site-packages/xgboost/sklearn.py:797: UserWarning: `eval_metric` in `fit` method is deprecated for better compatibility with scikit-learn, use `eval_metric` in constructor or`set_params` instead.\n",
      "  UserWarning,\n",
      "\n",
      "/opt/conda/lib/python3.7/site-packages/xgboost/sklearn.py:797: UserWarning: `early_stopping_rounds` in `fit` method is deprecated for better compatibility with scikit-learn, use `early_stopping_rounds` in constructor or`set_params` instead.\n",
      "  UserWarning,\n",
      "\n"
     ]
    },
    {
     "name": "stdout",
     "output_type": "stream",
     "text": [
      "SCORE:\n",
      "0.6567164179104478\n",
      "SCORE:\n",
      "0.6567164179104478\n",
      " 55%|█████▌    | 55/100 [00:07<00:06,  6.71trial/s, best loss: -0.8059701492537313]"
     ]
    },
    {
     "name": "stderr",
     "output_type": "stream",
     "text": [
      "/opt/conda/lib/python3.7/site-packages/xgboost/sklearn.py:797: UserWarning: `eval_metric` in `fit` method is deprecated for better compatibility with scikit-learn, use `eval_metric` in constructor or`set_params` instead.\n",
      "  UserWarning,\n",
      "\n",
      "/opt/conda/lib/python3.7/site-packages/xgboost/sklearn.py:797: UserWarning: `early_stopping_rounds` in `fit` method is deprecated for better compatibility with scikit-learn, use `early_stopping_rounds` in constructor or`set_params` instead.\n",
      "  UserWarning,\n",
      "\n",
      "/opt/conda/lib/python3.7/site-packages/xgboost/sklearn.py:797: UserWarning: `eval_metric` in `fit` method is deprecated for better compatibility with scikit-learn, use `eval_metric` in constructor or`set_params` instead.\n",
      "  UserWarning,\n",
      "\n",
      "/opt/conda/lib/python3.7/site-packages/xgboost/sklearn.py:797: UserWarning: `early_stopping_rounds` in `fit` method is deprecated for better compatibility with scikit-learn, use `early_stopping_rounds` in constructor or`set_params` instead.\n",
      "  UserWarning,\n",
      "\n"
     ]
    },
    {
     "name": "stdout",
     "output_type": "stream",
     "text": [
      "SCORE:\n",
      "0.6567164179104478\n",
      "SCORE:\n",
      "0.8059701492537313\n",
      " 57%|█████▋    | 57/100 [00:08<00:06,  6.28trial/s, best loss: -0.8059701492537313]"
     ]
    },
    {
     "name": "stderr",
     "output_type": "stream",
     "text": [
      "/opt/conda/lib/python3.7/site-packages/xgboost/sklearn.py:797: UserWarning: `eval_metric` in `fit` method is deprecated for better compatibility with scikit-learn, use `eval_metric` in constructor or`set_params` instead.\n",
      "  UserWarning,\n",
      "\n",
      "/opt/conda/lib/python3.7/site-packages/xgboost/sklearn.py:797: UserWarning: `early_stopping_rounds` in `fit` method is deprecated for better compatibility with scikit-learn, use `early_stopping_rounds` in constructor or`set_params` instead.\n",
      "  UserWarning,\n",
      "\n",
      "/opt/conda/lib/python3.7/site-packages/xgboost/sklearn.py:797: UserWarning: `eval_metric` in `fit` method is deprecated for better compatibility with scikit-learn, use `eval_metric` in constructor or`set_params` instead.\n",
      "  UserWarning,\n",
      "\n",
      "/opt/conda/lib/python3.7/site-packages/xgboost/sklearn.py:797: UserWarning: `early_stopping_rounds` in `fit` method is deprecated for better compatibility with scikit-learn, use `early_stopping_rounds` in constructor or`set_params` instead.\n",
      "  UserWarning,\n",
      "\n"
     ]
    },
    {
     "name": "stdout",
     "output_type": "stream",
     "text": [
      "SCORE:\n",
      "0.6567164179104478\n",
      "SCORE:\n",
      "0.6567164179104478\n",
      " 59%|█████▉    | 59/100 [00:08<00:06,  6.62trial/s, best loss: -0.8059701492537313]"
     ]
    },
    {
     "name": "stderr",
     "output_type": "stream",
     "text": [
      "/opt/conda/lib/python3.7/site-packages/xgboost/sklearn.py:797: UserWarning: `eval_metric` in `fit` method is deprecated for better compatibility with scikit-learn, use `eval_metric` in constructor or`set_params` instead.\n",
      "  UserWarning,\n",
      "\n",
      "/opt/conda/lib/python3.7/site-packages/xgboost/sklearn.py:797: UserWarning: `early_stopping_rounds` in `fit` method is deprecated for better compatibility with scikit-learn, use `early_stopping_rounds` in constructor or`set_params` instead.\n",
      "  UserWarning,\n",
      "\n",
      "/opt/conda/lib/python3.7/site-packages/xgboost/sklearn.py:797: UserWarning: `eval_metric` in `fit` method is deprecated for better compatibility with scikit-learn, use `eval_metric` in constructor or`set_params` instead.\n",
      "  UserWarning,\n",
      "\n",
      "/opt/conda/lib/python3.7/site-packages/xgboost/sklearn.py:797: UserWarning: `early_stopping_rounds` in `fit` method is deprecated for better compatibility with scikit-learn, use `early_stopping_rounds` in constructor or`set_params` instead.\n",
      "  UserWarning,\n",
      "\n"
     ]
    },
    {
     "name": "stdout",
     "output_type": "stream",
     "text": [
      "SCORE:\n",
      "0.6567164179104478\n",
      "SCORE:\n",
      "0.6567164179104478\n",
      " 61%|██████    | 61/100 [00:08<00:07,  5.33trial/s, best loss: -0.8059701492537313]"
     ]
    },
    {
     "name": "stderr",
     "output_type": "stream",
     "text": [
      "/opt/conda/lib/python3.7/site-packages/xgboost/sklearn.py:797: UserWarning: `eval_metric` in `fit` method is deprecated for better compatibility with scikit-learn, use `eval_metric` in constructor or`set_params` instead.\n",
      "  UserWarning,\n",
      "\n",
      "/opt/conda/lib/python3.7/site-packages/xgboost/sklearn.py:797: UserWarning: `early_stopping_rounds` in `fit` method is deprecated for better compatibility with scikit-learn, use `early_stopping_rounds` in constructor or`set_params` instead.\n",
      "  UserWarning,\n",
      "\n",
      "/opt/conda/lib/python3.7/site-packages/xgboost/sklearn.py:797: UserWarning: `eval_metric` in `fit` method is deprecated for better compatibility with scikit-learn, use `eval_metric` in constructor or`set_params` instead.\n",
      "  UserWarning,\n",
      "\n",
      "/opt/conda/lib/python3.7/site-packages/xgboost/sklearn.py:797: UserWarning: `early_stopping_rounds` in `fit` method is deprecated for better compatibility with scikit-learn, use `early_stopping_rounds` in constructor or`set_params` instead.\n",
      "  UserWarning,\n",
      "\n"
     ]
    },
    {
     "name": "stdout",
     "output_type": "stream",
     "text": [
      "SCORE:\n",
      "0.6567164179104478\n",
      "SCORE:\n",
      "0.6567164179104478\n",
      " 63%|██████▎   | 63/100 [00:09<00:06,  5.93trial/s, best loss: -0.8059701492537313]"
     ]
    },
    {
     "name": "stderr",
     "output_type": "stream",
     "text": [
      "/opt/conda/lib/python3.7/site-packages/xgboost/sklearn.py:797: UserWarning: `eval_metric` in `fit` method is deprecated for better compatibility with scikit-learn, use `eval_metric` in constructor or`set_params` instead.\n",
      "  UserWarning,\n",
      "\n",
      "/opt/conda/lib/python3.7/site-packages/xgboost/sklearn.py:797: UserWarning: `early_stopping_rounds` in `fit` method is deprecated for better compatibility with scikit-learn, use `early_stopping_rounds` in constructor or`set_params` instead.\n",
      "  UserWarning,\n",
      "\n",
      "/opt/conda/lib/python3.7/site-packages/xgboost/sklearn.py:797: UserWarning: `eval_metric` in `fit` method is deprecated for better compatibility with scikit-learn, use `eval_metric` in constructor or`set_params` instead.\n",
      "  UserWarning,\n",
      "\n",
      "/opt/conda/lib/python3.7/site-packages/xgboost/sklearn.py:797: UserWarning: `early_stopping_rounds` in `fit` method is deprecated for better compatibility with scikit-learn, use `early_stopping_rounds` in constructor or`set_params` instead.\n",
      "  UserWarning,\n",
      "\n"
     ]
    },
    {
     "name": "stdout",
     "output_type": "stream",
     "text": [
      "SCORE:\n",
      "0.6567164179104478\n",
      "SCORE:\n",
      "0.6567164179104478\n",
      " 65%|██████▌   | 65/100 [00:09<00:05,  6.37trial/s, best loss: -0.8059701492537313]"
     ]
    },
    {
     "name": "stderr",
     "output_type": "stream",
     "text": [
      "/opt/conda/lib/python3.7/site-packages/xgboost/sklearn.py:797: UserWarning: `eval_metric` in `fit` method is deprecated for better compatibility with scikit-learn, use `eval_metric` in constructor or`set_params` instead.\n",
      "  UserWarning,\n",
      "\n",
      "/opt/conda/lib/python3.7/site-packages/xgboost/sklearn.py:797: UserWarning: `early_stopping_rounds` in `fit` method is deprecated for better compatibility with scikit-learn, use `early_stopping_rounds` in constructor or`set_params` instead.\n",
      "  UserWarning,\n",
      "\n",
      "/opt/conda/lib/python3.7/site-packages/xgboost/sklearn.py:797: UserWarning: `eval_metric` in `fit` method is deprecated for better compatibility with scikit-learn, use `eval_metric` in constructor or`set_params` instead.\n",
      "  UserWarning,\n",
      "\n",
      "/opt/conda/lib/python3.7/site-packages/xgboost/sklearn.py:797: UserWarning: `early_stopping_rounds` in `fit` method is deprecated for better compatibility with scikit-learn, use `early_stopping_rounds` in constructor or`set_params` instead.\n",
      "  UserWarning,\n",
      "\n"
     ]
    },
    {
     "name": "stdout",
     "output_type": "stream",
     "text": [
      "SCORE:\n",
      "0.8059701492537313\n",
      "SCORE:\n",
      "0.6567164179104478\n",
      " 67%|██████▋   | 67/100 [00:09<00:05,  6.38trial/s, best loss: -0.8059701492537313]"
     ]
    },
    {
     "name": "stderr",
     "output_type": "stream",
     "text": [
      "/opt/conda/lib/python3.7/site-packages/xgboost/sklearn.py:797: UserWarning: `eval_metric` in `fit` method is deprecated for better compatibility with scikit-learn, use `eval_metric` in constructor or`set_params` instead.\n",
      "  UserWarning,\n",
      "\n",
      "/opt/conda/lib/python3.7/site-packages/xgboost/sklearn.py:797: UserWarning: `early_stopping_rounds` in `fit` method is deprecated for better compatibility with scikit-learn, use `early_stopping_rounds` in constructor or`set_params` instead.\n",
      "  UserWarning,\n",
      "\n",
      "/opt/conda/lib/python3.7/site-packages/xgboost/sklearn.py:797: UserWarning: `eval_metric` in `fit` method is deprecated for better compatibility with scikit-learn, use `eval_metric` in constructor or`set_params` instead.\n",
      "  UserWarning,\n",
      "\n",
      "/opt/conda/lib/python3.7/site-packages/xgboost/sklearn.py:797: UserWarning: `early_stopping_rounds` in `fit` method is deprecated for better compatibility with scikit-learn, use `early_stopping_rounds` in constructor or`set_params` instead.\n",
      "  UserWarning,\n",
      "\n"
     ]
    },
    {
     "name": "stdout",
     "output_type": "stream",
     "text": [
      "SCORE:\n",
      "0.8059701492537313\n",
      "SCORE:\n",
      "0.6567164179104478\n",
      " 69%|██████▉   | 69/100 [00:10<00:04,  6.43trial/s, best loss: -0.8059701492537313]"
     ]
    },
    {
     "name": "stderr",
     "output_type": "stream",
     "text": [
      "/opt/conda/lib/python3.7/site-packages/xgboost/sklearn.py:797: UserWarning: `eval_metric` in `fit` method is deprecated for better compatibility with scikit-learn, use `eval_metric` in constructor or`set_params` instead.\n",
      "  UserWarning,\n",
      "\n",
      "/opt/conda/lib/python3.7/site-packages/xgboost/sklearn.py:797: UserWarning: `early_stopping_rounds` in `fit` method is deprecated for better compatibility with scikit-learn, use `early_stopping_rounds` in constructor or`set_params` instead.\n",
      "  UserWarning,\n",
      "\n",
      "/opt/conda/lib/python3.7/site-packages/xgboost/sklearn.py:797: UserWarning: `eval_metric` in `fit` method is deprecated for better compatibility with scikit-learn, use `eval_metric` in constructor or`set_params` instead.\n",
      "  UserWarning,\n",
      "\n",
      "/opt/conda/lib/python3.7/site-packages/xgboost/sklearn.py:797: UserWarning: `early_stopping_rounds` in `fit` method is deprecated for better compatibility with scikit-learn, use `early_stopping_rounds` in constructor or`set_params` instead.\n",
      "  UserWarning,\n",
      "\n"
     ]
    },
    {
     "name": "stdout",
     "output_type": "stream",
     "text": [
      "SCORE:\n",
      "0.6567164179104478\n",
      "SCORE:\n",
      "0.8059701492537313\n",
      " 71%|███████   | 71/100 [00:10<00:04,  6.32trial/s, best loss: -0.8059701492537313]"
     ]
    },
    {
     "name": "stderr",
     "output_type": "stream",
     "text": [
      "/opt/conda/lib/python3.7/site-packages/xgboost/sklearn.py:797: UserWarning: `eval_metric` in `fit` method is deprecated for better compatibility with scikit-learn, use `eval_metric` in constructor or`set_params` instead.\n",
      "  UserWarning,\n",
      "\n",
      "/opt/conda/lib/python3.7/site-packages/xgboost/sklearn.py:797: UserWarning: `early_stopping_rounds` in `fit` method is deprecated for better compatibility with scikit-learn, use `early_stopping_rounds` in constructor or`set_params` instead.\n",
      "  UserWarning,\n",
      "\n",
      "/opt/conda/lib/python3.7/site-packages/xgboost/sklearn.py:797: UserWarning: `eval_metric` in `fit` method is deprecated for better compatibility with scikit-learn, use `eval_metric` in constructor or`set_params` instead.\n",
      "  UserWarning,\n",
      "\n",
      "/opt/conda/lib/python3.7/site-packages/xgboost/sklearn.py:797: UserWarning: `early_stopping_rounds` in `fit` method is deprecated for better compatibility with scikit-learn, use `early_stopping_rounds` in constructor or`set_params` instead.\n",
      "  UserWarning,\n",
      "\n"
     ]
    },
    {
     "name": "stdout",
     "output_type": "stream",
     "text": [
      "SCORE:\n",
      "0.6567164179104478\n",
      "SCORE:\n",
      "0.6567164179104478\n",
      " 73%|███████▎  | 73/100 [00:10<00:04,  6.47trial/s, best loss: -0.8059701492537313]"
     ]
    },
    {
     "name": "stderr",
     "output_type": "stream",
     "text": [
      "/opt/conda/lib/python3.7/site-packages/xgboost/sklearn.py:797: UserWarning: `eval_metric` in `fit` method is deprecated for better compatibility with scikit-learn, use `eval_metric` in constructor or`set_params` instead.\n",
      "  UserWarning,\n",
      "\n",
      "/opt/conda/lib/python3.7/site-packages/xgboost/sklearn.py:797: UserWarning: `early_stopping_rounds` in `fit` method is deprecated for better compatibility with scikit-learn, use `early_stopping_rounds` in constructor or`set_params` instead.\n",
      "  UserWarning,\n",
      "\n",
      "/opt/conda/lib/python3.7/site-packages/xgboost/sklearn.py:797: UserWarning: `eval_metric` in `fit` method is deprecated for better compatibility with scikit-learn, use `eval_metric` in constructor or`set_params` instead.\n",
      "  UserWarning,\n",
      "\n",
      "/opt/conda/lib/python3.7/site-packages/xgboost/sklearn.py:797: UserWarning: `early_stopping_rounds` in `fit` method is deprecated for better compatibility with scikit-learn, use `early_stopping_rounds` in constructor or`set_params` instead.\n",
      "  UserWarning,\n",
      "\n"
     ]
    },
    {
     "name": "stdout",
     "output_type": "stream",
     "text": [
      "SCORE:\n",
      "0.7686567164179104\n",
      "SCORE:\n",
      "0.6567164179104478\n",
      " 75%|███████▌  | 75/100 [00:10<00:03,  6.37trial/s, best loss: -0.8059701492537313]"
     ]
    },
    {
     "name": "stderr",
     "output_type": "stream",
     "text": [
      "/opt/conda/lib/python3.7/site-packages/xgboost/sklearn.py:797: UserWarning: `eval_metric` in `fit` method is deprecated for better compatibility with scikit-learn, use `eval_metric` in constructor or`set_params` instead.\n",
      "  UserWarning,\n",
      "\n",
      "/opt/conda/lib/python3.7/site-packages/xgboost/sklearn.py:797: UserWarning: `early_stopping_rounds` in `fit` method is deprecated for better compatibility with scikit-learn, use `early_stopping_rounds` in constructor or`set_params` instead.\n",
      "  UserWarning,\n",
      "\n",
      "/opt/conda/lib/python3.7/site-packages/xgboost/sklearn.py:797: UserWarning: `eval_metric` in `fit` method is deprecated for better compatibility with scikit-learn, use `eval_metric` in constructor or`set_params` instead.\n",
      "  UserWarning,\n",
      "\n",
      "/opt/conda/lib/python3.7/site-packages/xgboost/sklearn.py:797: UserWarning: `early_stopping_rounds` in `fit` method is deprecated for better compatibility with scikit-learn, use `early_stopping_rounds` in constructor or`set_params` instead.\n",
      "  UserWarning,\n",
      "\n"
     ]
    },
    {
     "name": "stdout",
     "output_type": "stream",
     "text": [
      "SCORE:\n",
      "0.6567164179104478\n",
      "SCORE:\n",
      "0.6567164179104478\n",
      " 77%|███████▋  | 77/100 [00:11<00:03,  6.45trial/s, best loss: -0.8059701492537313]"
     ]
    },
    {
     "name": "stderr",
     "output_type": "stream",
     "text": [
      "/opt/conda/lib/python3.7/site-packages/xgboost/sklearn.py:797: UserWarning: `eval_metric` in `fit` method is deprecated for better compatibility with scikit-learn, use `eval_metric` in constructor or`set_params` instead.\n",
      "  UserWarning,\n",
      "\n",
      "/opt/conda/lib/python3.7/site-packages/xgboost/sklearn.py:797: UserWarning: `early_stopping_rounds` in `fit` method is deprecated for better compatibility with scikit-learn, use `early_stopping_rounds` in constructor or`set_params` instead.\n",
      "  UserWarning,\n",
      "\n",
      "/opt/conda/lib/python3.7/site-packages/xgboost/sklearn.py:797: UserWarning: `eval_metric` in `fit` method is deprecated for better compatibility with scikit-learn, use `eval_metric` in constructor or`set_params` instead.\n",
      "  UserWarning,\n",
      "\n",
      "/opt/conda/lib/python3.7/site-packages/xgboost/sklearn.py:797: UserWarning: `early_stopping_rounds` in `fit` method is deprecated for better compatibility with scikit-learn, use `early_stopping_rounds` in constructor or`set_params` instead.\n",
      "  UserWarning,\n",
      "\n"
     ]
    },
    {
     "name": "stdout",
     "output_type": "stream",
     "text": [
      "SCORE:\n",
      "0.8059701492537313\n",
      "SCORE:\n",
      "0.6567164179104478\n",
      " 79%|███████▉  | 79/100 [00:11<00:03,  6.33trial/s, best loss: -0.8059701492537313]"
     ]
    },
    {
     "name": "stderr",
     "output_type": "stream",
     "text": [
      "/opt/conda/lib/python3.7/site-packages/xgboost/sklearn.py:797: UserWarning: `eval_metric` in `fit` method is deprecated for better compatibility with scikit-learn, use `eval_metric` in constructor or`set_params` instead.\n",
      "  UserWarning,\n",
      "\n",
      "/opt/conda/lib/python3.7/site-packages/xgboost/sklearn.py:797: UserWarning: `early_stopping_rounds` in `fit` method is deprecated for better compatibility with scikit-learn, use `early_stopping_rounds` in constructor or`set_params` instead.\n",
      "  UserWarning,\n",
      "\n",
      "/opt/conda/lib/python3.7/site-packages/xgboost/sklearn.py:797: UserWarning: `eval_metric` in `fit` method is deprecated for better compatibility with scikit-learn, use `eval_metric` in constructor or`set_params` instead.\n",
      "  UserWarning,\n",
      "\n",
      "/opt/conda/lib/python3.7/site-packages/xgboost/sklearn.py:797: UserWarning: `early_stopping_rounds` in `fit` method is deprecated for better compatibility with scikit-learn, use `early_stopping_rounds` in constructor or`set_params` instead.\n",
      "  UserWarning,\n",
      "\n"
     ]
    },
    {
     "name": "stdout",
     "output_type": "stream",
     "text": [
      "SCORE:\n",
      "0.746268656716418\n",
      "SCORE:\n",
      "0.6567164179104478\n",
      " 81%|████████  | 81/100 [00:11<00:03,  6.24trial/s, best loss: -0.8059701492537313]"
     ]
    },
    {
     "name": "stderr",
     "output_type": "stream",
     "text": [
      "/opt/conda/lib/python3.7/site-packages/xgboost/sklearn.py:797: UserWarning: `eval_metric` in `fit` method is deprecated for better compatibility with scikit-learn, use `eval_metric` in constructor or`set_params` instead.\n",
      "  UserWarning,\n",
      "\n",
      "/opt/conda/lib/python3.7/site-packages/xgboost/sklearn.py:797: UserWarning: `early_stopping_rounds` in `fit` method is deprecated for better compatibility with scikit-learn, use `early_stopping_rounds` in constructor or`set_params` instead.\n",
      "  UserWarning,\n",
      "\n",
      "/opt/conda/lib/python3.7/site-packages/xgboost/sklearn.py:797: UserWarning: `eval_metric` in `fit` method is deprecated for better compatibility with scikit-learn, use `eval_metric` in constructor or`set_params` instead.\n",
      "  UserWarning,\n",
      "\n",
      "/opt/conda/lib/python3.7/site-packages/xgboost/sklearn.py:797: UserWarning: `early_stopping_rounds` in `fit` method is deprecated for better compatibility with scikit-learn, use `early_stopping_rounds` in constructor or`set_params` instead.\n",
      "  UserWarning,\n",
      "\n"
     ]
    },
    {
     "name": "stdout",
     "output_type": "stream",
     "text": [
      "SCORE:\n",
      "0.6567164179104478\n",
      "SCORE:\n",
      "0.6567164179104478\n",
      " 83%|████████▎ | 83/100 [00:12<00:02,  6.65trial/s, best loss: -0.8059701492537313]"
     ]
    },
    {
     "name": "stderr",
     "output_type": "stream",
     "text": [
      "/opt/conda/lib/python3.7/site-packages/xgboost/sklearn.py:797: UserWarning: `eval_metric` in `fit` method is deprecated for better compatibility with scikit-learn, use `eval_metric` in constructor or`set_params` instead.\n",
      "  UserWarning,\n",
      "\n",
      "/opt/conda/lib/python3.7/site-packages/xgboost/sklearn.py:797: UserWarning: `early_stopping_rounds` in `fit` method is deprecated for better compatibility with scikit-learn, use `early_stopping_rounds` in constructor or`set_params` instead.\n",
      "  UserWarning,\n",
      "\n",
      "/opt/conda/lib/python3.7/site-packages/xgboost/sklearn.py:797: UserWarning: `eval_metric` in `fit` method is deprecated for better compatibility with scikit-learn, use `eval_metric` in constructor or`set_params` instead.\n",
      "  UserWarning,\n",
      "\n",
      "/opt/conda/lib/python3.7/site-packages/xgboost/sklearn.py:797: UserWarning: `early_stopping_rounds` in `fit` method is deprecated for better compatibility with scikit-learn, use `early_stopping_rounds` in constructor or`set_params` instead.\n",
      "  UserWarning,\n",
      "\n"
     ]
    },
    {
     "name": "stdout",
     "output_type": "stream",
     "text": [
      "SCORE:\n",
      "0.6567164179104478\n",
      "SCORE:\n",
      "0.6567164179104478\n",
      " 85%|████████▌ | 85/100 [00:12<00:02,  6.72trial/s, best loss: -0.8059701492537313]"
     ]
    },
    {
     "name": "stderr",
     "output_type": "stream",
     "text": [
      "/opt/conda/lib/python3.7/site-packages/xgboost/sklearn.py:797: UserWarning: `eval_metric` in `fit` method is deprecated for better compatibility with scikit-learn, use `eval_metric` in constructor or`set_params` instead.\n",
      "  UserWarning,\n",
      "\n",
      "/opt/conda/lib/python3.7/site-packages/xgboost/sklearn.py:797: UserWarning: `early_stopping_rounds` in `fit` method is deprecated for better compatibility with scikit-learn, use `early_stopping_rounds` in constructor or`set_params` instead.\n",
      "  UserWarning,\n",
      "\n",
      "/opt/conda/lib/python3.7/site-packages/xgboost/sklearn.py:797: UserWarning: `eval_metric` in `fit` method is deprecated for better compatibility with scikit-learn, use `eval_metric` in constructor or`set_params` instead.\n",
      "  UserWarning,\n",
      "\n",
      "/opt/conda/lib/python3.7/site-packages/xgboost/sklearn.py:797: UserWarning: `early_stopping_rounds` in `fit` method is deprecated for better compatibility with scikit-learn, use `early_stopping_rounds` in constructor or`set_params` instead.\n",
      "  UserWarning,\n",
      "\n"
     ]
    },
    {
     "name": "stdout",
     "output_type": "stream",
     "text": [
      "SCORE:\n",
      "0.7686567164179104\n",
      "SCORE:\n",
      "0.6567164179104478\n",
      " 87%|████████▋ | 87/100 [00:12<00:01,  6.51trial/s, best loss: -0.8059701492537313]"
     ]
    },
    {
     "name": "stderr",
     "output_type": "stream",
     "text": [
      "/opt/conda/lib/python3.7/site-packages/xgboost/sklearn.py:797: UserWarning: `eval_metric` in `fit` method is deprecated for better compatibility with scikit-learn, use `eval_metric` in constructor or`set_params` instead.\n",
      "  UserWarning,\n",
      "\n",
      "/opt/conda/lib/python3.7/site-packages/xgboost/sklearn.py:797: UserWarning: `early_stopping_rounds` in `fit` method is deprecated for better compatibility with scikit-learn, use `early_stopping_rounds` in constructor or`set_params` instead.\n",
      "  UserWarning,\n",
      "\n",
      "/opt/conda/lib/python3.7/site-packages/xgboost/sklearn.py:797: UserWarning: `eval_metric` in `fit` method is deprecated for better compatibility with scikit-learn, use `eval_metric` in constructor or`set_params` instead.\n",
      "  UserWarning,\n",
      "\n",
      "/opt/conda/lib/python3.7/site-packages/xgboost/sklearn.py:797: UserWarning: `early_stopping_rounds` in `fit` method is deprecated for better compatibility with scikit-learn, use `early_stopping_rounds` in constructor or`set_params` instead.\n",
      "  UserWarning,\n",
      "\n"
     ]
    },
    {
     "name": "stdout",
     "output_type": "stream",
     "text": [
      "SCORE:\n",
      "0.6567164179104478\n",
      "SCORE:\n",
      "0.6567164179104478\n",
      " 89%|████████▉ | 89/100 [00:13<00:01,  7.00trial/s, best loss: -0.8059701492537313]"
     ]
    },
    {
     "name": "stderr",
     "output_type": "stream",
     "text": [
      "/opt/conda/lib/python3.7/site-packages/xgboost/sklearn.py:797: UserWarning: `eval_metric` in `fit` method is deprecated for better compatibility with scikit-learn, use `eval_metric` in constructor or`set_params` instead.\n",
      "  UserWarning,\n",
      "\n",
      "/opt/conda/lib/python3.7/site-packages/xgboost/sklearn.py:797: UserWarning: `early_stopping_rounds` in `fit` method is deprecated for better compatibility with scikit-learn, use `early_stopping_rounds` in constructor or`set_params` instead.\n",
      "  UserWarning,\n",
      "\n",
      "/opt/conda/lib/python3.7/site-packages/xgboost/sklearn.py:797: UserWarning: `eval_metric` in `fit` method is deprecated for better compatibility with scikit-learn, use `eval_metric` in constructor or`set_params` instead.\n",
      "  UserWarning,\n",
      "\n",
      "/opt/conda/lib/python3.7/site-packages/xgboost/sklearn.py:797: UserWarning: `early_stopping_rounds` in `fit` method is deprecated for better compatibility with scikit-learn, use `early_stopping_rounds` in constructor or`set_params` instead.\n",
      "  UserWarning,\n",
      "\n"
     ]
    },
    {
     "name": "stdout",
     "output_type": "stream",
     "text": [
      "SCORE:\n",
      "0.6567164179104478\n",
      "SCORE:\n",
      "0.6567164179104478\n",
      " 91%|█████████ | 91/100 [00:13<00:01,  6.82trial/s, best loss: -0.8059701492537313]"
     ]
    },
    {
     "name": "stderr",
     "output_type": "stream",
     "text": [
      "/opt/conda/lib/python3.7/site-packages/xgboost/sklearn.py:797: UserWarning: `eval_metric` in `fit` method is deprecated for better compatibility with scikit-learn, use `eval_metric` in constructor or`set_params` instead.\n",
      "  UserWarning,\n",
      "\n",
      "/opt/conda/lib/python3.7/site-packages/xgboost/sklearn.py:797: UserWarning: `early_stopping_rounds` in `fit` method is deprecated for better compatibility with scikit-learn, use `early_stopping_rounds` in constructor or`set_params` instead.\n",
      "  UserWarning,\n",
      "\n",
      "/opt/conda/lib/python3.7/site-packages/xgboost/sklearn.py:797: UserWarning: `eval_metric` in `fit` method is deprecated for better compatibility with scikit-learn, use `eval_metric` in constructor or`set_params` instead.\n",
      "  UserWarning,\n",
      "\n",
      "/opt/conda/lib/python3.7/site-packages/xgboost/sklearn.py:797: UserWarning: `early_stopping_rounds` in `fit` method is deprecated for better compatibility with scikit-learn, use `early_stopping_rounds` in constructor or`set_params` instead.\n",
      "  UserWarning,\n",
      "\n"
     ]
    },
    {
     "name": "stdout",
     "output_type": "stream",
     "text": [
      "SCORE:\n",
      "0.6567164179104478\n",
      "SCORE:\n",
      "0.8059701492537313\n",
      " 93%|█████████▎| 93/100 [00:13<00:01,  6.43trial/s, best loss: -0.8059701492537313]"
     ]
    },
    {
     "name": "stderr",
     "output_type": "stream",
     "text": [
      "/opt/conda/lib/python3.7/site-packages/xgboost/sklearn.py:797: UserWarning: `eval_metric` in `fit` method is deprecated for better compatibility with scikit-learn, use `eval_metric` in constructor or`set_params` instead.\n",
      "  UserWarning,\n",
      "\n",
      "/opt/conda/lib/python3.7/site-packages/xgboost/sklearn.py:797: UserWarning: `early_stopping_rounds` in `fit` method is deprecated for better compatibility with scikit-learn, use `early_stopping_rounds` in constructor or`set_params` instead.\n",
      "  UserWarning,\n",
      "\n",
      "/opt/conda/lib/python3.7/site-packages/xgboost/sklearn.py:797: UserWarning: `eval_metric` in `fit` method is deprecated for better compatibility with scikit-learn, use `eval_metric` in constructor or`set_params` instead.\n",
      "  UserWarning,\n",
      "\n",
      "/opt/conda/lib/python3.7/site-packages/xgboost/sklearn.py:797: UserWarning: `early_stopping_rounds` in `fit` method is deprecated for better compatibility with scikit-learn, use `early_stopping_rounds` in constructor or`set_params` instead.\n",
      "  UserWarning,\n",
      "\n"
     ]
    },
    {
     "name": "stdout",
     "output_type": "stream",
     "text": [
      "SCORE:\n",
      "0.6567164179104478\n",
      "SCORE:\n",
      "0.6567164179104478\n",
      " 95%|█████████▌| 95/100 [00:14<00:00,  6.47trial/s, best loss: -0.8059701492537313]"
     ]
    },
    {
     "name": "stderr",
     "output_type": "stream",
     "text": [
      "/opt/conda/lib/python3.7/site-packages/xgboost/sklearn.py:797: UserWarning: `eval_metric` in `fit` method is deprecated for better compatibility with scikit-learn, use `eval_metric` in constructor or`set_params` instead.\n",
      "  UserWarning,\n",
      "\n",
      "/opt/conda/lib/python3.7/site-packages/xgboost/sklearn.py:797: UserWarning: `early_stopping_rounds` in `fit` method is deprecated for better compatibility with scikit-learn, use `early_stopping_rounds` in constructor or`set_params` instead.\n",
      "  UserWarning,\n",
      "\n",
      "/opt/conda/lib/python3.7/site-packages/xgboost/sklearn.py:797: UserWarning: `eval_metric` in `fit` method is deprecated for better compatibility with scikit-learn, use `eval_metric` in constructor or`set_params` instead.\n",
      "  UserWarning,\n",
      "\n",
      "/opt/conda/lib/python3.7/site-packages/xgboost/sklearn.py:797: UserWarning: `early_stopping_rounds` in `fit` method is deprecated for better compatibility with scikit-learn, use `early_stopping_rounds` in constructor or`set_params` instead.\n",
      "  UserWarning,\n",
      "\n"
     ]
    },
    {
     "name": "stdout",
     "output_type": "stream",
     "text": [
      "SCORE:\n",
      "0.6567164179104478\n",
      "SCORE:\n",
      "0.6567164179104478\n",
      " 97%|█████████▋| 97/100 [00:14<00:00,  6.46trial/s, best loss: -0.8059701492537313]"
     ]
    },
    {
     "name": "stderr",
     "output_type": "stream",
     "text": [
      "/opt/conda/lib/python3.7/site-packages/xgboost/sklearn.py:797: UserWarning: `eval_metric` in `fit` method is deprecated for better compatibility with scikit-learn, use `eval_metric` in constructor or`set_params` instead.\n",
      "  UserWarning,\n",
      "\n",
      "/opt/conda/lib/python3.7/site-packages/xgboost/sklearn.py:797: UserWarning: `early_stopping_rounds` in `fit` method is deprecated for better compatibility with scikit-learn, use `early_stopping_rounds` in constructor or`set_params` instead.\n",
      "  UserWarning,\n",
      "\n",
      "/opt/conda/lib/python3.7/site-packages/xgboost/sklearn.py:797: UserWarning: `eval_metric` in `fit` method is deprecated for better compatibility with scikit-learn, use `eval_metric` in constructor or`set_params` instead.\n",
      "  UserWarning,\n",
      "\n",
      "/opt/conda/lib/python3.7/site-packages/xgboost/sklearn.py:797: UserWarning: `early_stopping_rounds` in `fit` method is deprecated for better compatibility with scikit-learn, use `early_stopping_rounds` in constructor or`set_params` instead.\n",
      "  UserWarning,\n",
      "\n"
     ]
    },
    {
     "name": "stdout",
     "output_type": "stream",
     "text": [
      "SCORE:\n",
      "0.6567164179104478\n",
      "SCORE:\n",
      "0.6567164179104478\n",
      " 99%|█████████▉| 99/100 [00:14<00:00,  6.46trial/s, best loss: -0.8059701492537313]"
     ]
    },
    {
     "name": "stderr",
     "output_type": "stream",
     "text": [
      "/opt/conda/lib/python3.7/site-packages/xgboost/sklearn.py:797: UserWarning: `eval_metric` in `fit` method is deprecated for better compatibility with scikit-learn, use `eval_metric` in constructor or`set_params` instead.\n",
      "  UserWarning,\n",
      "\n",
      "/opt/conda/lib/python3.7/site-packages/xgboost/sklearn.py:797: UserWarning: `early_stopping_rounds` in `fit` method is deprecated for better compatibility with scikit-learn, use `early_stopping_rounds` in constructor or`set_params` instead.\n",
      "  UserWarning,\n",
      "\n",
      "/opt/conda/lib/python3.7/site-packages/xgboost/sklearn.py:797: UserWarning: `eval_metric` in `fit` method is deprecated for better compatibility with scikit-learn, use `eval_metric` in constructor or`set_params` instead.\n",
      "  UserWarning,\n",
      "\n",
      "/opt/conda/lib/python3.7/site-packages/xgboost/sklearn.py:797: UserWarning: `early_stopping_rounds` in `fit` method is deprecated for better compatibility with scikit-learn, use `early_stopping_rounds` in constructor or`set_params` instead.\n",
      "  UserWarning,\n",
      "\n"
     ]
    },
    {
     "name": "stdout",
     "output_type": "stream",
     "text": [
      "SCORE:\n",
      "0.8059701492537313\n",
      "100%|██████████| 100/100 [00:14<00:00,  6.75trial/s, best loss: -0.8059701492537313]\n"
     ]
    }
   ],
   "source": [
    "trials = Trials()\n",
    "\n",
    "best_hyperparams = fmin(fn = objective,\n",
    "                        space = space,\n",
    "                        algo = tpe.suggest,\n",
    "                        max_evals = 100,\n",
    "                        trials = trials)"
   ]
  },
  {
   "cell_type": "code",
   "execution_count": 32,
   "id": "e852c931",
   "metadata": {
    "execution": {
     "iopub.execute_input": "2023-02-24T06:44:30.416312Z",
     "iopub.status.busy": "2023-02-24T06:44:30.415544Z",
     "iopub.status.idle": "2023-02-24T06:44:30.423418Z",
     "shell.execute_reply": "2023-02-24T06:44:30.421619Z"
    },
    "papermill": {
     "duration": 0.07549,
     "end_time": "2023-02-24T06:44:30.425832",
     "exception": false,
     "start_time": "2023-02-24T06:44:30.350342",
     "status": "completed"
    },
    "tags": []
   },
   "outputs": [
    {
     "name": "stdout",
     "output_type": "stream",
     "text": [
      "The best hyperparameters are :  \n",
      "\n",
      "{'colsample_bytree': 0.9307118880963935, 'gamma': 8.705708851998736, 'max_depth': 10.0, 'min_child_weight': 8.0, 'reg_alpha': 41.0, 'reg_lambda': 0.1301055180290488}\n"
     ]
    }
   ],
   "source": [
    "print(\"The best hyperparameters are : \",\"\\n\")\n",
    "print(best_hyperparams)"
   ]
  },
  {
   "cell_type": "code",
   "execution_count": 33,
   "id": "2ffacc70",
   "metadata": {
    "execution": {
     "iopub.execute_input": "2023-02-24T06:44:30.556123Z",
     "iopub.status.busy": "2023-02-24T06:44:30.555677Z",
     "iopub.status.idle": "2023-02-24T06:44:31.410675Z",
     "shell.execute_reply": "2023-02-24T06:44:31.409727Z"
    },
    "papermill": {
     "duration": 0.922554,
     "end_time": "2023-02-24T06:44:31.413255",
     "exception": false,
     "start_time": "2023-02-24T06:44:30.490701",
     "status": "completed"
    },
    "tags": []
   },
   "outputs": [
    {
     "name": "stdout",
     "output_type": "stream",
     "text": [
      "[0]\tvalidation_0-logloss:0.68340\n",
      "[1]\tvalidation_0-logloss:0.67719\n",
      "[2]\tvalidation_0-logloss:0.67315\n",
      "[3]\tvalidation_0-logloss:0.62010\n",
      "[4]\tvalidation_0-logloss:0.62010\n",
      "[5]\tvalidation_0-logloss:0.62010\n",
      "[6]\tvalidation_0-logloss:0.58784\n",
      "[7]\tvalidation_0-logloss:0.57859\n",
      "[8]\tvalidation_0-logloss:0.55989\n",
      "[9]\tvalidation_0-logloss:0.55989\n",
      "[10]\tvalidation_0-logloss:0.55989\n",
      "[11]\tvalidation_0-logloss:0.55989\n",
      "[12]\tvalidation_0-logloss:0.55989\n",
      "[13]\tvalidation_0-logloss:0.55989\n",
      "[14]\tvalidation_0-logloss:0.54771\n",
      "[15]\tvalidation_0-logloss:0.54771\n",
      "[16]\tvalidation_0-logloss:0.54771\n",
      "[17]\tvalidation_0-logloss:0.54771\n",
      "[18]\tvalidation_0-logloss:0.54771\n",
      "[19]\tvalidation_0-logloss:0.54771\n",
      "[20]\tvalidation_0-logloss:0.54771\n",
      "[21]\tvalidation_0-logloss:0.54771\n",
      "[22]\tvalidation_0-logloss:0.54771\n",
      "[23]\tvalidation_0-logloss:0.54771\n",
      "[24]\tvalidation_0-logloss:0.54771\n",
      "[25]\tvalidation_0-logloss:0.54771\n",
      "[26]\tvalidation_0-logloss:0.54771\n",
      "[27]\tvalidation_0-logloss:0.54771\n",
      "[28]\tvalidation_0-logloss:0.54771\n",
      "[29]\tvalidation_0-logloss:0.54771\n",
      "[30]\tvalidation_0-logloss:0.54771\n",
      "[31]\tvalidation_0-logloss:0.54771\n",
      "[32]\tvalidation_0-logloss:0.54771\n",
      "[33]\tvalidation_0-logloss:0.54771\n",
      "[34]\tvalidation_0-logloss:0.54771\n",
      "[35]\tvalidation_0-logloss:0.54771\n",
      "[36]\tvalidation_0-logloss:0.54771\n",
      "[37]\tvalidation_0-logloss:0.54771\n",
      "[38]\tvalidation_0-logloss:0.54771\n",
      "[39]\tvalidation_0-logloss:0.54771\n",
      "[40]\tvalidation_0-logloss:0.54771\n",
      "[41]\tvalidation_0-logloss:0.54771\n",
      "[42]\tvalidation_0-logloss:0.54771\n",
      "[43]\tvalidation_0-logloss:0.54771\n",
      "[44]\tvalidation_0-logloss:0.54771\n",
      "[45]\tvalidation_0-logloss:0.54771\n",
      "[46]\tvalidation_0-logloss:0.54771\n",
      "[47]\tvalidation_0-logloss:0.54771\n",
      "[48]\tvalidation_0-logloss:0.54771\n",
      "[49]\tvalidation_0-logloss:0.54771\n",
      "[50]\tvalidation_0-logloss:0.54771\n",
      "[51]\tvalidation_0-logloss:0.54771\n",
      "[52]\tvalidation_0-logloss:0.54771\n",
      "[53]\tvalidation_0-logloss:0.54771\n",
      "[54]\tvalidation_0-logloss:0.54771\n",
      "[55]\tvalidation_0-logloss:0.54771\n",
      "[56]\tvalidation_0-logloss:0.54771\n",
      "[57]\tvalidation_0-logloss:0.54771\n",
      "[58]\tvalidation_0-logloss:0.54771\n",
      "[59]\tvalidation_0-logloss:0.54771\n",
      "[60]\tvalidation_0-logloss:0.54771\n",
      "[61]\tvalidation_0-logloss:0.54771\n",
      "[62]\tvalidation_0-logloss:0.54771\n",
      "[63]\tvalidation_0-logloss:0.54771\n",
      "[64]\tvalidation_0-logloss:0.54771\n",
      "[65]\tvalidation_0-logloss:0.54771\n",
      "[66]\tvalidation_0-logloss:0.54771\n",
      "[67]\tvalidation_0-logloss:0.54771\n",
      "[68]\tvalidation_0-logloss:0.54771\n",
      "[69]\tvalidation_0-logloss:0.54771\n",
      "[70]\tvalidation_0-logloss:0.54771\n",
      "[71]\tvalidation_0-logloss:0.54771\n",
      "[72]\tvalidation_0-logloss:0.54771\n",
      "[73]\tvalidation_0-logloss:0.54771\n",
      "[74]\tvalidation_0-logloss:0.54771\n",
      "[75]\tvalidation_0-logloss:0.54771\n",
      "[76]\tvalidation_0-logloss:0.54771\n",
      "[77]\tvalidation_0-logloss:0.54771\n",
      "[78]\tvalidation_0-logloss:0.54771\n",
      "[79]\tvalidation_0-logloss:0.54771\n",
      "[80]\tvalidation_0-logloss:0.54771\n",
      "[81]\tvalidation_0-logloss:0.54771\n",
      "[82]\tvalidation_0-logloss:0.54771\n",
      "[83]\tvalidation_0-logloss:0.54771\n",
      "[84]\tvalidation_0-logloss:0.54771\n",
      "[85]\tvalidation_0-logloss:0.54771\n",
      "[86]\tvalidation_0-logloss:0.54771\n",
      "[87]\tvalidation_0-logloss:0.54771\n",
      "[88]\tvalidation_0-logloss:0.54771\n",
      "[89]\tvalidation_0-logloss:0.54771\n",
      "[90]\tvalidation_0-logloss:0.54771\n",
      "[91]\tvalidation_0-logloss:0.54771\n",
      "[92]\tvalidation_0-logloss:0.54771\n",
      "[93]\tvalidation_0-logloss:0.54771\n",
      "[94]\tvalidation_0-logloss:0.54771\n",
      "[95]\tvalidation_0-logloss:0.54771\n",
      "[96]\tvalidation_0-logloss:0.54771\n",
      "[97]\tvalidation_0-logloss:0.54771\n",
      "[98]\tvalidation_0-logloss:0.54771\n",
      "[99]\tvalidation_0-logloss:0.54771\n"
     ]
    }
   ],
   "source": [
    "clf=xgboost.XGBClassifier(\n",
    "                    colsample_bytree= int(0.9378328231924545), gamma= 6.026171775140156, max_depth= int(5.0), min_child_weight= int(5.0), reg_alpha= int(42.0), reg_lambda= 0.8447403550416325\n",
    ")\n",
    "    \n",
    "evaluation = [(X_test, y_test)]\n",
    "    \n",
    "clf.fit(X_train, y_train,\n",
    "            eval_set=evaluation)\n",
    "    \n",
    "\n",
    "preds = clf.predict(X_test)\n"
   ]
  },
  {
   "cell_type": "code",
   "execution_count": 34,
   "id": "7797cdc4",
   "metadata": {
    "execution": {
     "iopub.execute_input": "2023-02-24T06:44:31.557563Z",
     "iopub.status.busy": "2023-02-24T06:44:31.557149Z",
     "iopub.status.idle": "2023-02-24T06:44:31.569402Z",
     "shell.execute_reply": "2023-02-24T06:44:31.568038Z"
    },
    "papermill": {
     "duration": 0.086677,
     "end_time": "2023-02-24T06:44:31.571923",
     "exception": false,
     "start_time": "2023-02-24T06:44:31.485246",
     "status": "completed"
    },
    "tags": []
   },
   "outputs": [
    {
     "name": "stdout",
     "output_type": "stream",
     "text": [
      "[[76 12]\n",
      " [14 32]]\n",
      "              precision    recall  f1-score   support\n",
      "\n",
      "           0       0.84      0.86      0.85        88\n",
      "           1       0.73      0.70      0.71        46\n",
      "\n",
      "    accuracy                           0.81       134\n",
      "   macro avg       0.79      0.78      0.78       134\n",
      "weighted avg       0.80      0.81      0.80       134\n",
      "\n"
     ]
    }
   ],
   "source": [
    "print(confusion_matrix(y_test, preds))\n",
    "report = classification_report(y_test, preds)\n",
    "print(report)"
   ]
  },
  {
   "cell_type": "markdown",
   "id": "c4652952",
   "metadata": {
    "papermill": {
     "duration": 0.069503,
     "end_time": "2023-02-24T06:44:31.711571",
     "exception": false,
     "start_time": "2023-02-24T06:44:31.642068",
     "status": "completed"
    },
    "tags": []
   },
   "source": [
    "# Despite hypertuning, logistic regression still performs slightly better than XGBoost?"
   ]
  },
  {
   "cell_type": "code",
   "execution_count": 35,
   "id": "43ef5169",
   "metadata": {
    "execution": {
     "iopub.execute_input": "2023-02-24T06:44:31.852709Z",
     "iopub.status.busy": "2023-02-24T06:44:31.851246Z",
     "iopub.status.idle": "2023-02-24T06:44:31.865105Z",
     "shell.execute_reply": "2023-02-24T06:44:31.864257Z"
    },
    "papermill": {
     "duration": 0.086615,
     "end_time": "2023-02-24T06:44:31.867239",
     "exception": false,
     "start_time": "2023-02-24T06:44:31.780624",
     "status": "completed"
    },
    "tags": []
   },
   "outputs": [
    {
     "data": {
      "text/plain": [
       "'Age NaNs: 86'"
      ]
     },
     "metadata": {},
     "output_type": "display_data"
    },
    {
     "data": {
      "text/plain": [
       "'Embark NaNs: 0'"
      ]
     },
     "metadata": {},
     "output_type": "display_data"
    }
   ],
   "source": [
    "display(f'Age NaNs: {test_df[\"Age\"].isna().sum()}')\n",
    "display(f'Embark NaNs: {test_df[\"Embarked\"].isna().sum()}')\n",
    "\n",
    "# Dummy encode the sex and embarked columns\n",
    "test_df[\"Sex\"] = test_df[\"Sex\"].map({\"male\": 0, \"female\": 1})\n",
    "test_df[\"Embarked\"] = test_df[\"Embarked\"].map({ \"C\": 0, \"Q\": 1, \"S\": 2})"
   ]
  },
  {
   "cell_type": "code",
   "execution_count": 36,
   "id": "046aa195",
   "metadata": {
    "execution": {
     "iopub.execute_input": "2023-02-24T06:44:32.008243Z",
     "iopub.status.busy": "2023-02-24T06:44:32.007391Z",
     "iopub.status.idle": "2023-02-24T06:44:32.013292Z",
     "shell.execute_reply": "2023-02-24T06:44:32.012469Z"
    },
    "papermill": {
     "duration": 0.07874,
     "end_time": "2023-02-24T06:44:32.015371",
     "exception": false,
     "start_time": "2023-02-24T06:44:31.936631",
     "status": "completed"
    },
    "tags": []
   },
   "outputs": [],
   "source": [
    "# Fill Age NaNs\n",
    "test_df['Age'].fillna(test_df['Age'].mean(), inplace=True)"
   ]
  },
  {
   "cell_type": "code",
   "execution_count": 37,
   "id": "92b3a015",
   "metadata": {
    "execution": {
     "iopub.execute_input": "2023-02-24T06:44:32.158840Z",
     "iopub.status.busy": "2023-02-24T06:44:32.158428Z",
     "iopub.status.idle": "2023-02-24T06:44:32.171964Z",
     "shell.execute_reply": "2023-02-24T06:44:32.171016Z"
    },
    "papermill": {
     "duration": 0.089751,
     "end_time": "2023-02-24T06:44:32.174409",
     "exception": false,
     "start_time": "2023-02-24T06:44:32.084658",
     "status": "completed"
    },
    "tags": []
   },
   "outputs": [
    {
     "data": {
      "text/plain": [
       "'X_test length: 418'"
      ]
     },
     "metadata": {},
     "output_type": "display_data"
    }
   ],
   "source": [
    "# Preprocessing\n",
    "# Only include one of \"pclass\", \"fare\"\n",
    "independent_variables = [\"Sex\", \"Pclass\", \"Age\", \"SibSp\", \"Parch\", \"Embarked\"]\n",
    "X = test_df[independent_variables]\n",
    "\n",
    "\n",
    "# Standard Scale the testing data\n",
    "\n",
    "scaler = StandardScaler().fit(X)\n",
    "X_test = scaler.transform(X)\n",
    "display(f\"X_test length: {len(X_test)}\")"
   ]
  },
  {
   "cell_type": "code",
   "execution_count": 38,
   "id": "a98e95cb",
   "metadata": {
    "execution": {
     "iopub.execute_input": "2023-02-24T06:44:32.321230Z",
     "iopub.status.busy": "2023-02-24T06:44:32.320820Z",
     "iopub.status.idle": "2023-02-24T06:44:32.330480Z",
     "shell.execute_reply": "2023-02-24T06:44:32.329504Z"
    },
    "papermill": {
     "duration": 0.085422,
     "end_time": "2023-02-24T06:44:32.332638",
     "exception": false,
     "start_time": "2023-02-24T06:44:32.247216",
     "status": "completed"
    },
    "tags": []
   },
   "outputs": [
    {
     "data": {
      "text/plain": [
       "PassengerId      0\n",
       "Pclass           0\n",
       "Name             0\n",
       "Sex              0\n",
       "Age              0\n",
       "SibSp            0\n",
       "Parch            0\n",
       "Ticket           0\n",
       "Fare             1\n",
       "Cabin          327\n",
       "Embarked         0\n",
       "dtype: int64"
      ]
     },
     "execution_count": 38,
     "metadata": {},
     "output_type": "execute_result"
    }
   ],
   "source": [
    "#Check missing datas\n",
    "test_df.isnull().sum()"
   ]
  },
  {
   "cell_type": "code",
   "execution_count": 39,
   "id": "b2be108b",
   "metadata": {
    "execution": {
     "iopub.execute_input": "2023-02-24T06:44:32.479307Z",
     "iopub.status.busy": "2023-02-24T06:44:32.478337Z",
     "iopub.status.idle": "2023-02-24T06:44:32.501975Z",
     "shell.execute_reply": "2023-02-24T06:44:32.494452Z"
    },
    "papermill": {
     "duration": 0.100957,
     "end_time": "2023-02-24T06:44:32.505231",
     "exception": false,
     "start_time": "2023-02-24T06:44:32.404274",
     "status": "completed"
    },
    "tags": []
   },
   "outputs": [],
   "source": [
    "preds = clf.predict(X_test)"
   ]
  },
  {
   "cell_type": "code",
   "execution_count": 40,
   "id": "0235acf1",
   "metadata": {
    "execution": {
     "iopub.execute_input": "2023-02-24T06:44:32.654575Z",
     "iopub.status.busy": "2023-02-24T06:44:32.653580Z",
     "iopub.status.idle": "2023-02-24T06:44:32.661629Z",
     "shell.execute_reply": "2023-02-24T06:44:32.660367Z"
    },
    "papermill": {
     "duration": 0.085921,
     "end_time": "2023-02-24T06:44:32.664035",
     "exception": false,
     "start_time": "2023-02-24T06:44:32.578114",
     "status": "completed"
    },
    "tags": []
   },
   "outputs": [],
   "source": [
    "submission_df = pd.DataFrame()\n",
    "submission_df[\"PassengerId\"] = test_df[\"PassengerId\"]\n",
    "submission_df[\"Survived\"] = preds"
   ]
  },
  {
   "cell_type": "code",
   "execution_count": 41,
   "id": "bd92aa15",
   "metadata": {
    "execution": {
     "iopub.execute_input": "2023-02-24T06:44:32.805239Z",
     "iopub.status.busy": "2023-02-24T06:44:32.804584Z",
     "iopub.status.idle": "2023-02-24T06:44:32.815388Z",
     "shell.execute_reply": "2023-02-24T06:44:32.814265Z"
    },
    "papermill": {
     "duration": 0.084452,
     "end_time": "2023-02-24T06:44:32.817883",
     "exception": false,
     "start_time": "2023-02-24T06:44:32.733431",
     "status": "completed"
    },
    "tags": []
   },
   "outputs": [
    {
     "data": {
      "text/html": [
       "<div>\n",
       "<style scoped>\n",
       "    .dataframe tbody tr th:only-of-type {\n",
       "        vertical-align: middle;\n",
       "    }\n",
       "\n",
       "    .dataframe tbody tr th {\n",
       "        vertical-align: top;\n",
       "    }\n",
       "\n",
       "    .dataframe thead th {\n",
       "        text-align: right;\n",
       "    }\n",
       "</style>\n",
       "<table border=\"1\" class=\"dataframe\">\n",
       "  <thead>\n",
       "    <tr style=\"text-align: right;\">\n",
       "      <th></th>\n",
       "      <th>PassengerId</th>\n",
       "      <th>Survived</th>\n",
       "    </tr>\n",
       "  </thead>\n",
       "  <tbody>\n",
       "    <tr>\n",
       "      <th>0</th>\n",
       "      <td>892</td>\n",
       "      <td>0</td>\n",
       "    </tr>\n",
       "    <tr>\n",
       "      <th>1</th>\n",
       "      <td>893</td>\n",
       "      <td>1</td>\n",
       "    </tr>\n",
       "    <tr>\n",
       "      <th>2</th>\n",
       "      <td>894</td>\n",
       "      <td>0</td>\n",
       "    </tr>\n",
       "    <tr>\n",
       "      <th>3</th>\n",
       "      <td>895</td>\n",
       "      <td>0</td>\n",
       "    </tr>\n",
       "    <tr>\n",
       "      <th>4</th>\n",
       "      <td>896</td>\n",
       "      <td>1</td>\n",
       "    </tr>\n",
       "  </tbody>\n",
       "</table>\n",
       "</div>"
      ],
      "text/plain": [
       "   PassengerId  Survived\n",
       "0          892         0\n",
       "1          893         1\n",
       "2          894         0\n",
       "3          895         0\n",
       "4          896         1"
      ]
     },
     "execution_count": 41,
     "metadata": {},
     "output_type": "execute_result"
    }
   ],
   "source": [
    "submission_df.head()"
   ]
  },
  {
   "cell_type": "code",
   "execution_count": 42,
   "id": "fd3233b5",
   "metadata": {
    "execution": {
     "iopub.execute_input": "2023-02-24T06:44:32.961563Z",
     "iopub.status.busy": "2023-02-24T06:44:32.960827Z",
     "iopub.status.idle": "2023-02-24T06:44:32.969562Z",
     "shell.execute_reply": "2023-02-24T06:44:32.968808Z"
    },
    "papermill": {
     "duration": 0.083554,
     "end_time": "2023-02-24T06:44:32.971691",
     "exception": false,
     "start_time": "2023-02-24T06:44:32.888137",
     "status": "completed"
    },
    "tags": []
   },
   "outputs": [],
   "source": [
    "submission_df.to_csv(\"submission.csv\", index=False)"
   ]
  }
 ],
 "metadata": {
  "kernelspec": {
   "display_name": "Python 3",
   "language": "python",
   "name": "python3"
  },
  "language_info": {
   "codemirror_mode": {
    "name": "ipython",
    "version": 3
   },
   "file_extension": ".py",
   "mimetype": "text/x-python",
   "name": "python",
   "nbconvert_exporter": "python",
   "pygments_lexer": "ipython3",
   "version": "3.7.12"
  },
  "papermill": {
   "default_parameters": {},
   "duration": 32.944456,
   "end_time": "2023-02-24T06:44:33.863985",
   "environment_variables": {},
   "exception": null,
   "input_path": "__notebook__.ipynb",
   "output_path": "__notebook__.ipynb",
   "parameters": {},
   "start_time": "2023-02-24T06:44:00.919529",
   "version": "2.3.4"
  }
 },
 "nbformat": 4,
 "nbformat_minor": 5
}
